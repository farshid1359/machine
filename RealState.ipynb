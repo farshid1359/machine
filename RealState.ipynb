{
  "nbformat": 4,
  "nbformat_minor": 0,
  "metadata": {
    "colab": {
      "name": "RealState.ipynb",
      "provenance": [],
      "collapsed_sections": [],
      "include_colab_link": true
    },
    "kernelspec": {
      "name": "python3",
      "display_name": "Python 3"
    }
  },
  "cells": [
    {
      "cell_type": "markdown",
      "metadata": {
        "id": "view-in-github",
        "colab_type": "text"
      },
      "source": [
        "<a href=\"https://colab.research.google.com/github/markitosanches/machine/blob/master/RealState.ipynb\" target=\"_parent\"><img src=\"https://colab.research.google.com/assets/colab-badge.svg\" alt=\"Open In Colab\"/></a>"
      ]
    },
    {
      "cell_type": "code",
      "metadata": {
        "id": "EWGrCYDJfgC6",
        "colab_type": "code",
        "colab": {}
      },
      "source": [
        "import pandas as pd"
      ],
      "execution_count": 0,
      "outputs": []
    },
    {
      "cell_type": "code",
      "metadata": {
        "id": "vaK12-x47F4q",
        "colab_type": "code",
        "outputId": "fb7f24d5-76a9-4ef2-8507-f4afe4fc34ce",
        "colab": {
          "base_uri": "https://localhost:8080/",
          "height": 223
        }
      },
      "source": [
        "!wget https://github.com/markitosanches/machine/blob/master/housepricedata.csv"
      ],
      "execution_count": 10,
      "outputs": [
        {
          "output_type": "stream",
          "text": [
            "--2019-12-15 01:15:17--  https://github.com/markitosanches/machine/blob/master/housepricedata.csv\n",
            "Resolving github.com (github.com)... 140.82.113.3\n",
            "Connecting to github.com (github.com)|140.82.113.3|:443... connected.\n",
            "HTTP request sent, awaiting response... 200 OK\n",
            "Length: unspecified [text/html]\n",
            "Saving to: ‘housepricedata.csv’\n",
            "\n",
            "housepricedata.csv      [ <=>                ] 683.20K  --.-KB/s    in 0.08s   \n",
            "\n",
            "2019-12-15 01:15:18 (8.63 MB/s) - ‘housepricedata.csv’ saved [699596]\n",
            "\n"
          ],
          "name": "stdout"
        }
      ]
    },
    {
      "cell_type": "code",
      "metadata": {
        "id": "8A829UUcgEkf",
        "colab_type": "code",
        "colab": {}
      },
      "source": [
        "data = pd.read_csv(\"housepricedata.csv\");"
      ],
      "execution_count": 0,
      "outputs": []
    },
    {
      "cell_type": "code",
      "metadata": {
        "id": "ctQU60eQgTdj",
        "colab_type": "code",
        "outputId": "1c47199a-49c8-4742-9a65-c356a7e42be3",
        "colab": {
          "base_uri": "https://localhost:8080/",
          "height": 424
        }
      },
      "source": [
        "data"
      ],
      "execution_count": 16,
      "outputs": [
        {
          "output_type": "execute_result",
          "data": {
            "text/html": [
              "<div>\n",
              "<style scoped>\n",
              "    .dataframe tbody tr th:only-of-type {\n",
              "        vertical-align: middle;\n",
              "    }\n",
              "\n",
              "    .dataframe tbody tr th {\n",
              "        vertical-align: top;\n",
              "    }\n",
              "\n",
              "    .dataframe thead th {\n",
              "        text-align: right;\n",
              "    }\n",
              "</style>\n",
              "<table border=\"1\" class=\"dataframe\">\n",
              "  <thead>\n",
              "    <tr style=\"text-align: right;\">\n",
              "      <th></th>\n",
              "      <th>LotArea</th>\n",
              "      <th>OverallQual</th>\n",
              "      <th>OverallCond</th>\n",
              "      <th>TotalBsmtSF</th>\n",
              "      <th>FullBath</th>\n",
              "      <th>HalfBath</th>\n",
              "      <th>BedroomAbvGr</th>\n",
              "      <th>TotRmsAbvGrd</th>\n",
              "      <th>Fireplaces</th>\n",
              "      <th>GarageArea</th>\n",
              "      <th>AboveMedianPrice</th>\n",
              "    </tr>\n",
              "  </thead>\n",
              "  <tbody>\n",
              "    <tr>\n",
              "      <th>0</th>\n",
              "      <td>8450</td>\n",
              "      <td>7</td>\n",
              "      <td>5</td>\n",
              "      <td>856</td>\n",
              "      <td>2</td>\n",
              "      <td>1</td>\n",
              "      <td>3</td>\n",
              "      <td>8</td>\n",
              "      <td>0</td>\n",
              "      <td>548</td>\n",
              "      <td>1</td>\n",
              "    </tr>\n",
              "    <tr>\n",
              "      <th>1</th>\n",
              "      <td>9600</td>\n",
              "      <td>6</td>\n",
              "      <td>8</td>\n",
              "      <td>1262</td>\n",
              "      <td>2</td>\n",
              "      <td>0</td>\n",
              "      <td>3</td>\n",
              "      <td>6</td>\n",
              "      <td>1</td>\n",
              "      <td>460</td>\n",
              "      <td>1</td>\n",
              "    </tr>\n",
              "    <tr>\n",
              "      <th>2</th>\n",
              "      <td>11250</td>\n",
              "      <td>7</td>\n",
              "      <td>5</td>\n",
              "      <td>920</td>\n",
              "      <td>2</td>\n",
              "      <td>1</td>\n",
              "      <td>3</td>\n",
              "      <td>6</td>\n",
              "      <td>1</td>\n",
              "      <td>608</td>\n",
              "      <td>1</td>\n",
              "    </tr>\n",
              "    <tr>\n",
              "      <th>3</th>\n",
              "      <td>9550</td>\n",
              "      <td>7</td>\n",
              "      <td>5</td>\n",
              "      <td>756</td>\n",
              "      <td>1</td>\n",
              "      <td>0</td>\n",
              "      <td>3</td>\n",
              "      <td>7</td>\n",
              "      <td>1</td>\n",
              "      <td>642</td>\n",
              "      <td>0</td>\n",
              "    </tr>\n",
              "    <tr>\n",
              "      <th>4</th>\n",
              "      <td>14260</td>\n",
              "      <td>8</td>\n",
              "      <td>5</td>\n",
              "      <td>1145</td>\n",
              "      <td>2</td>\n",
              "      <td>1</td>\n",
              "      <td>4</td>\n",
              "      <td>9</td>\n",
              "      <td>1</td>\n",
              "      <td>836</td>\n",
              "      <td>1</td>\n",
              "    </tr>\n",
              "    <tr>\n",
              "      <th>...</th>\n",
              "      <td>...</td>\n",
              "      <td>...</td>\n",
              "      <td>...</td>\n",
              "      <td>...</td>\n",
              "      <td>...</td>\n",
              "      <td>...</td>\n",
              "      <td>...</td>\n",
              "      <td>...</td>\n",
              "      <td>...</td>\n",
              "      <td>...</td>\n",
              "      <td>...</td>\n",
              "    </tr>\n",
              "    <tr>\n",
              "      <th>1455</th>\n",
              "      <td>7917</td>\n",
              "      <td>6</td>\n",
              "      <td>5</td>\n",
              "      <td>953</td>\n",
              "      <td>2</td>\n",
              "      <td>1</td>\n",
              "      <td>3</td>\n",
              "      <td>7</td>\n",
              "      <td>1</td>\n",
              "      <td>460</td>\n",
              "      <td>1</td>\n",
              "    </tr>\n",
              "    <tr>\n",
              "      <th>1456</th>\n",
              "      <td>13175</td>\n",
              "      <td>6</td>\n",
              "      <td>6</td>\n",
              "      <td>1542</td>\n",
              "      <td>2</td>\n",
              "      <td>0</td>\n",
              "      <td>3</td>\n",
              "      <td>7</td>\n",
              "      <td>2</td>\n",
              "      <td>500</td>\n",
              "      <td>1</td>\n",
              "    </tr>\n",
              "    <tr>\n",
              "      <th>1457</th>\n",
              "      <td>9042</td>\n",
              "      <td>7</td>\n",
              "      <td>9</td>\n",
              "      <td>1152</td>\n",
              "      <td>2</td>\n",
              "      <td>0</td>\n",
              "      <td>4</td>\n",
              "      <td>9</td>\n",
              "      <td>2</td>\n",
              "      <td>252</td>\n",
              "      <td>1</td>\n",
              "    </tr>\n",
              "    <tr>\n",
              "      <th>1458</th>\n",
              "      <td>9717</td>\n",
              "      <td>5</td>\n",
              "      <td>6</td>\n",
              "      <td>1078</td>\n",
              "      <td>1</td>\n",
              "      <td>0</td>\n",
              "      <td>2</td>\n",
              "      <td>5</td>\n",
              "      <td>0</td>\n",
              "      <td>240</td>\n",
              "      <td>0</td>\n",
              "    </tr>\n",
              "    <tr>\n",
              "      <th>1459</th>\n",
              "      <td>9937</td>\n",
              "      <td>5</td>\n",
              "      <td>6</td>\n",
              "      <td>1256</td>\n",
              "      <td>1</td>\n",
              "      <td>1</td>\n",
              "      <td>3</td>\n",
              "      <td>6</td>\n",
              "      <td>0</td>\n",
              "      <td>276</td>\n",
              "      <td>0</td>\n",
              "    </tr>\n",
              "  </tbody>\n",
              "</table>\n",
              "<p>1460 rows × 11 columns</p>\n",
              "</div>"
            ],
            "text/plain": [
              "      LotArea  OverallQual  ...  GarageArea  AboveMedianPrice\n",
              "0        8450            7  ...         548                 1\n",
              "1        9600            6  ...         460                 1\n",
              "2       11250            7  ...         608                 1\n",
              "3        9550            7  ...         642                 0\n",
              "4       14260            8  ...         836                 1\n",
              "...       ...          ...  ...         ...               ...\n",
              "1455     7917            6  ...         460                 1\n",
              "1456    13175            6  ...         500                 1\n",
              "1457     9042            7  ...         252                 1\n",
              "1458     9717            5  ...         240                 0\n",
              "1459     9937            5  ...         276                 0\n",
              "\n",
              "[1460 rows x 11 columns]"
            ]
          },
          "metadata": {
            "tags": []
          },
          "execution_count": 16
        }
      ]
    },
    {
      "cell_type": "code",
      "metadata": {
        "id": "iuDK9qf-hD2M",
        "colab_type": "code",
        "colab": {}
      },
      "source": [
        "dataset = data.values"
      ],
      "execution_count": 0,
      "outputs": []
    },
    {
      "cell_type": "code",
      "metadata": {
        "id": "BXNQoAcRh4Bq",
        "colab_type": "code",
        "outputId": "72e8e265-cfc7-4588-a19b-d83582d6f36f",
        "colab": {
          "base_uri": "https://localhost:8080/",
          "height": 148
        }
      },
      "source": [
        "dataset"
      ],
      "execution_count": 18,
      "outputs": [
        {
          "output_type": "execute_result",
          "data": {
            "text/plain": [
              "array([[ 8450,     7,     5, ...,     0,   548,     1],\n",
              "       [ 9600,     6,     8, ...,     1,   460,     1],\n",
              "       [11250,     7,     5, ...,     1,   608,     1],\n",
              "       ...,\n",
              "       [ 9042,     7,     9, ...,     2,   252,     1],\n",
              "       [ 9717,     5,     6, ...,     0,   240,     0],\n",
              "       [ 9937,     5,     6, ...,     0,   276,     0]])"
            ]
          },
          "metadata": {
            "tags": []
          },
          "execution_count": 18
        }
      ]
    },
    {
      "cell_type": "code",
      "metadata": {
        "id": "x4YSHVlJid4k",
        "colab_type": "code",
        "outputId": "9bab3694-41e8-45f1-9ffa-d48b7a7ea4ec",
        "colab": {
          "base_uri": "https://localhost:8080/",
          "height": 36
        }
      },
      "source": [
        "dataset.shape"
      ],
      "execution_count": 19,
      "outputs": [
        {
          "output_type": "execute_result",
          "data": {
            "text/plain": [
              "(1460, 11)"
            ]
          },
          "metadata": {
            "tags": []
          },
          "execution_count": 19
        }
      ]
    },
    {
      "cell_type": "code",
      "metadata": {
        "id": "eIv9lMuYjXWx",
        "colab_type": "code",
        "colab": {}
      },
      "source": [
        "# columns 1 - 10\n",
        "X = dataset[:,0:10]"
      ],
      "execution_count": 0,
      "outputs": []
    },
    {
      "cell_type": "code",
      "metadata": {
        "id": "vBRt9URUjZ0H",
        "colab_type": "code",
        "outputId": "fcbf65f1-d417-4b37-aef8-7566f4cdde7f",
        "colab": {
          "base_uri": "https://localhost:8080/",
          "height": 36
        }
      },
      "source": [
        "X.shape"
      ],
      "execution_count": 21,
      "outputs": [
        {
          "output_type": "execute_result",
          "data": {
            "text/plain": [
              "(1460, 10)"
            ]
          },
          "metadata": {
            "tags": []
          },
          "execution_count": 21
        }
      ]
    },
    {
      "cell_type": "code",
      "metadata": {
        "id": "XMtLclmZa5fI",
        "colab_type": "code",
        "outputId": "0408c6c2-b306-438e-f7af-231a3a192d2e",
        "colab": {
          "base_uri": "https://localhost:8080/",
          "height": 148
        }
      },
      "source": [
        "X"
      ],
      "execution_count": 22,
      "outputs": [
        {
          "output_type": "execute_result",
          "data": {
            "text/plain": [
              "array([[ 8450,     7,     5, ...,     8,     0,   548],\n",
              "       [ 9600,     6,     8, ...,     6,     1,   460],\n",
              "       [11250,     7,     5, ...,     6,     1,   608],\n",
              "       ...,\n",
              "       [ 9042,     7,     9, ...,     9,     2,   252],\n",
              "       [ 9717,     5,     6, ...,     5,     0,   240],\n",
              "       [ 9937,     5,     6, ...,     6,     0,   276]])"
            ]
          },
          "metadata": {
            "tags": []
          },
          "execution_count": 22
        }
      ]
    },
    {
      "cell_type": "code",
      "metadata": {
        "id": "uON3Oh5IkvnH",
        "colab_type": "code",
        "colab": {}
      },
      "source": [
        "y = dataset[:,10]"
      ],
      "execution_count": 0,
      "outputs": []
    },
    {
      "cell_type": "code",
      "metadata": {
        "id": "A_iiLmnoHcgc",
        "colab_type": "code",
        "colab": {
          "base_uri": "https://localhost:8080/",
          "height": 36
        },
        "outputId": "91fa5991-156e-4d1f-ef20-73ecccea02a3"
      },
      "source": [
        "y.shape"
      ],
      "execution_count": 24,
      "outputs": [
        {
          "output_type": "execute_result",
          "data": {
            "text/plain": [
              "(1460,)"
            ]
          },
          "metadata": {
            "tags": []
          },
          "execution_count": 24
        }
      ]
    },
    {
      "cell_type": "code",
      "metadata": {
        "id": "RR_gClyqk_o1",
        "colab_type": "code",
        "outputId": "0565800c-5f21-4fab-c30e-43b003d39707",
        "colab": {
          "base_uri": "https://localhost:8080/",
          "height": 36
        }
      },
      "source": [
        "y"
      ],
      "execution_count": 25,
      "outputs": [
        {
          "output_type": "execute_result",
          "data": {
            "text/plain": [
              "array([1, 1, 1, ..., 1, 0, 0])"
            ]
          },
          "metadata": {
            "tags": []
          },
          "execution_count": 25
        }
      ]
    },
    {
      "cell_type": "code",
      "metadata": {
        "id": "wh5VAwfalerg",
        "colab_type": "code",
        "colab": {}
      },
      "source": [
        "#scaling \n",
        "from sklearn import preprocessing"
      ],
      "execution_count": 0,
      "outputs": []
    },
    {
      "cell_type": "code",
      "metadata": {
        "id": "yr0toLj-lth-",
        "colab_type": "code",
        "colab": {}
      },
      "source": [
        "#all values between 0 and 1\n",
        "min_max_scaler = preprocessing.MinMaxScaler()\n",
        "X_scale = min_max_scaler.fit_transform(X)"
      ],
      "execution_count": 0,
      "outputs": []
    },
    {
      "cell_type": "code",
      "metadata": {
        "id": "QWGognUClxuN",
        "colab_type": "code",
        "outputId": "2303b117-6f64-4ab6-e5df-16ffb38bf66c",
        "colab": {
          "base_uri": "https://localhost:8080/",
          "height": 261
        }
      },
      "source": [
        "X_scale"
      ],
      "execution_count": 28,
      "outputs": [
        {
          "output_type": "execute_result",
          "data": {
            "text/plain": [
              "array([[0.0334198 , 0.66666667, 0.5       , ..., 0.5       , 0.        ,\n",
              "        0.3864598 ],\n",
              "       [0.03879502, 0.55555556, 0.875     , ..., 0.33333333, 0.33333333,\n",
              "        0.32440056],\n",
              "       [0.04650728, 0.66666667, 0.5       , ..., 0.33333333, 0.33333333,\n",
              "        0.42877292],\n",
              "       ...,\n",
              "       [0.03618687, 0.66666667, 1.        , ..., 0.58333333, 0.66666667,\n",
              "        0.17771509],\n",
              "       [0.03934189, 0.44444444, 0.625     , ..., 0.25      , 0.        ,\n",
              "        0.16925247],\n",
              "       [0.04037019, 0.44444444, 0.625     , ..., 0.33333333, 0.        ,\n",
              "        0.19464034]])"
            ]
          },
          "metadata": {
            "tags": []
          },
          "execution_count": 28
        }
      ]
    },
    {
      "cell_type": "code",
      "metadata": {
        "id": "RZDYKZaXmceF",
        "colab_type": "code",
        "colab": {}
      },
      "source": [
        "from sklearn.model_selection import train_test_split"
      ],
      "execution_count": 0,
      "outputs": []
    },
    {
      "cell_type": "code",
      "metadata": {
        "id": "gQiexeRWmLLN",
        "colab_type": "code",
        "colab": {}
      },
      "source": [
        "#Train and test set (30%)\n",
        "X_train, X_val_and_test, y_train, y_val_and_test = train_test_split(X_scale, y, test_size=0.3)"
      ],
      "execution_count": 0,
      "outputs": []
    },
    {
      "cell_type": "code",
      "metadata": {
        "id": "38kxSwyOmd9D",
        "colab_type": "code",
        "colab": {}
      },
      "source": [
        "#validation test (50% of test set)\n",
        "X_val, X_test, y_val, y_test = train_test_split(X_val_and_test, y_val_and_test, test_size=0.5)"
      ],
      "execution_count": 0,
      "outputs": []
    },
    {
      "cell_type": "code",
      "metadata": {
        "id": "C_c3heDhnIS3",
        "colab_type": "code",
        "outputId": "ab298b9e-7134-4042-b036-7ef7f40bb2ab",
        "colab": {
          "base_uri": "https://localhost:8080/",
          "height": 36
        }
      },
      "source": [
        "print(X_train.shape, X_val.shape, X_test.shape, y_train.shape, y_val.shape, y_test.shape)"
      ],
      "execution_count": 32,
      "outputs": [
        {
          "output_type": "stream",
          "text": [
            "(1022, 10) (219, 10) (219, 10) (1022,) (219,) (219,)\n"
          ],
          "name": "stdout"
        }
      ]
    },
    {
      "cell_type": "code",
      "metadata": {
        "id": "tYAGf3mQ00cO",
        "colab_type": "code",
        "colab": {}
      },
      "source": [
        "import tensorflow as tf\n",
        "from keras.models import Sequential\n",
        "from keras.layers import Dense\n",
        "\n"
      ],
      "execution_count": 0,
      "outputs": []
    },
    {
      "cell_type": "code",
      "metadata": {
        "id": "imJrnyc42EFx",
        "colab_type": "code",
        "colab": {}
      },
      "source": [
        "model = Sequential()\n",
        "model.add(Dense(100, activation=\"relu\", input_shape=(10,)))\n",
        "model.add(Dense(100, activation=\"relu\"))\n",
        "model.add(Dense(1, activation=\"sigmoid\"))\n",
        "\n",
        "model.compile(optimizer=\"adam\", loss=\"mean_squared_error\", metrics=['accuracy'])"
      ],
      "execution_count": 0,
      "outputs": []
    },
    {
      "cell_type": "code",
      "metadata": {
        "id": "mXgW78ca9Tj1",
        "colab_type": "code",
        "outputId": "bd213d6e-6e3f-4066-fbe1-2e61869efe46",
        "colab": {
          "base_uri": "https://localhost:8080/",
          "height": 422
        }
      },
      "source": [
        "tf.keras.utils.plot_model(model, 'my_first_model.png', show_shapes=True)"
      ],
      "execution_count": 37,
      "outputs": [
        {
          "output_type": "execute_result",
          "data": {
            "image/png": "[encoded data removed]",
            "text/plain": [
              "<IPython.core.display.Image object>"
            ]
          },
          "metadata": {
            "tags": []
          },
          "execution_count": 37
        }
      ]
    },
    {
      "cell_type": "code",
      "metadata": {
        "id": "XdDz68t28SRx",
        "colab_type": "code",
        "outputId": "02cf83d5-7846-4b6b-bcac-88d253034252",
        "colab": {
          "base_uri": "https://localhost:8080/",
          "height": 279
        }
      },
      "source": [
        "model.summary()"
      ],
      "execution_count": 38,
      "outputs": [
        {
          "output_type": "stream",
          "text": [
            "Model: \"sequential_2\"\n",
            "_________________________________________________________________\n",
            "Layer (type)                 Output Shape              Param #   \n",
            "=================================================================\n",
            "dense_4 (Dense)              (None, 100)               1100      \n",
            "_________________________________________________________________\n",
            "dense_5 (Dense)              (None, 100)               10100     \n",
            "_________________________________________________________________\n",
            "dense_6 (Dense)              (None, 1)                 101       \n",
            "=================================================================\n",
            "Total params: 11,301\n",
            "Trainable params: 11,301\n",
            "Non-trainable params: 0\n",
            "_________________________________________________________________\n"
          ],
          "name": "stdout"
        }
      ]
    },
    {
      "cell_type": "code",
      "metadata": {
        "id": "9pX1A0Vn29jf",
        "colab_type": "code",
        "outputId": "04bbb6e0-38b5-4cfe-c3c5-452740a26aef",
        "colab": {
          "base_uri": "https://localhost:8080/",
          "height": 1000
        }
      },
      "source": [
        "hist = model.fit(X_train, y_train, batch_size=32, epochs=100, validation_data=(X_val, y_val))"
      ],
      "execution_count": 40,
      "outputs": [
        {
          "output_type": "stream",
          "text": [
            "Train on 1022 samples, validate on 219 samples\n",
            "Epoch 1/100\n",
            "1022/1022 [==============================] - 0s 53us/step - loss: 0.0810 - acc: 0.8894 - val_loss: 0.0671 - val_acc: 0.9087\n",
            "Epoch 2/100\n",
            "1022/1022 [==============================] - 0s 49us/step - loss: 0.0758 - acc: 0.8973 - val_loss: 0.0793 - val_acc: 0.8858\n",
            "Epoch 3/100\n",
            "1022/1022 [==============================] - 0s 47us/step - loss: 0.0754 - acc: 0.8963 - val_loss: 0.0699 - val_acc: 0.8904\n",
            "Epoch 4/100\n",
            "1022/1022 [==============================] - 0s 47us/step - loss: 0.0740 - acc: 0.8885 - val_loss: 0.0689 - val_acc: 0.8995\n",
            "Epoch 5/100\n",
            "1022/1022 [==============================] - 0s 48us/step - loss: 0.0735 - acc: 0.9041 - val_loss: 0.0696 - val_acc: 0.8995\n",
            "Epoch 6/100\n",
            "1022/1022 [==============================] - 0s 53us/step - loss: 0.0754 - acc: 0.8992 - val_loss: 0.0660 - val_acc: 0.9041\n",
            "Epoch 7/100\n",
            "1022/1022 [==============================] - 0s 57us/step - loss: 0.0708 - acc: 0.9051 - val_loss: 0.0678 - val_acc: 0.8995\n",
            "Epoch 8/100\n",
            "1022/1022 [==============================] - 0s 54us/step - loss: 0.0730 - acc: 0.9022 - val_loss: 0.0658 - val_acc: 0.8995\n",
            "Epoch 9/100\n",
            "1022/1022 [==============================] - 0s 50us/step - loss: 0.0716 - acc: 0.9041 - val_loss: 0.0709 - val_acc: 0.8950\n",
            "Epoch 10/100\n",
            "1022/1022 [==============================] - 0s 68us/step - loss: 0.0709 - acc: 0.9031 - val_loss: 0.0680 - val_acc: 0.8995\n",
            "Epoch 11/100\n",
            "1022/1022 [==============================] - 0s 56us/step - loss: 0.0714 - acc: 0.9090 - val_loss: 0.0646 - val_acc: 0.9041\n",
            "Epoch 12/100\n",
            "1022/1022 [==============================] - 0s 57us/step - loss: 0.0722 - acc: 0.9070 - val_loss: 0.0691 - val_acc: 0.8950\n",
            "Epoch 13/100\n",
            "1022/1022 [==============================] - 0s 57us/step - loss: 0.0700 - acc: 0.9080 - val_loss: 0.0628 - val_acc: 0.9178\n",
            "Epoch 14/100\n",
            "1022/1022 [==============================] - 0s 52us/step - loss: 0.0696 - acc: 0.9061 - val_loss: 0.0648 - val_acc: 0.9178\n",
            "Epoch 15/100\n",
            "1022/1022 [==============================] - 0s 50us/step - loss: 0.0677 - acc: 0.9129 - val_loss: 0.0746 - val_acc: 0.8904\n",
            "Epoch 16/100\n",
            "1022/1022 [==============================] - 0s 54us/step - loss: 0.0708 - acc: 0.9022 - val_loss: 0.0665 - val_acc: 0.8950\n",
            "Epoch 17/100\n",
            "1022/1022 [==============================] - 0s 51us/step - loss: 0.0693 - acc: 0.9080 - val_loss: 0.0637 - val_acc: 0.9178\n",
            "Epoch 18/100\n",
            "1022/1022 [==============================] - 0s 50us/step - loss: 0.0712 - acc: 0.9041 - val_loss: 0.0621 - val_acc: 0.9087\n",
            "Epoch 19/100\n",
            "1022/1022 [==============================] - 0s 51us/step - loss: 0.0675 - acc: 0.9100 - val_loss: 0.0639 - val_acc: 0.9087\n",
            "Epoch 20/100\n",
            "1022/1022 [==============================] - 0s 50us/step - loss: 0.0695 - acc: 0.9051 - val_loss: 0.0607 - val_acc: 0.9087\n",
            "Epoch 21/100\n",
            "1022/1022 [==============================] - 0s 50us/step - loss: 0.0707 - acc: 0.9031 - val_loss: 0.0653 - val_acc: 0.8995\n",
            "Epoch 22/100\n",
            "1022/1022 [==============================] - 0s 51us/step - loss: 0.0685 - acc: 0.9110 - val_loss: 0.0653 - val_acc: 0.9087\n",
            "Epoch 23/100\n",
            "1022/1022 [==============================] - 0s 54us/step - loss: 0.0667 - acc: 0.9119 - val_loss: 0.0608 - val_acc: 0.9132\n",
            "Epoch 24/100\n",
            "1022/1022 [==============================] - 0s 48us/step - loss: 0.0677 - acc: 0.9090 - val_loss: 0.0650 - val_acc: 0.9178\n",
            "Epoch 25/100\n",
            "1022/1022 [==============================] - 0s 49us/step - loss: 0.0658 - acc: 0.9080 - val_loss: 0.0679 - val_acc: 0.8995\n",
            "Epoch 26/100\n",
            "1022/1022 [==============================] - 0s 58us/step - loss: 0.0677 - acc: 0.9119 - val_loss: 0.0654 - val_acc: 0.8995\n",
            "Epoch 27/100\n",
            "1022/1022 [==============================] - 0s 65us/step - loss: 0.0664 - acc: 0.9129 - val_loss: 0.0635 - val_acc: 0.9087\n",
            "Epoch 28/100\n",
            "1022/1022 [==============================] - 0s 55us/step - loss: 0.0657 - acc: 0.9149 - val_loss: 0.0640 - val_acc: 0.9132\n",
            "Epoch 29/100\n",
            "1022/1022 [==============================] - 0s 60us/step - loss: 0.0677 - acc: 0.9100 - val_loss: 0.0646 - val_acc: 0.9041\n",
            "Epoch 30/100\n",
            "1022/1022 [==============================] - 0s 55us/step - loss: 0.0653 - acc: 0.9100 - val_loss: 0.0608 - val_acc: 0.9087\n",
            "Epoch 31/100\n",
            "1022/1022 [==============================] - 0s 55us/step - loss: 0.0681 - acc: 0.9100 - val_loss: 0.0649 - val_acc: 0.9132\n",
            "Epoch 32/100\n",
            "1022/1022 [==============================] - 0s 63us/step - loss: 0.0648 - acc: 0.9149 - val_loss: 0.0658 - val_acc: 0.8995\n",
            "Epoch 33/100\n",
            "1022/1022 [==============================] - 0s 51us/step - loss: 0.0656 - acc: 0.9139 - val_loss: 0.0635 - val_acc: 0.9132\n",
            "Epoch 34/100\n",
            "1022/1022 [==============================] - 0s 50us/step - loss: 0.0636 - acc: 0.9188 - val_loss: 0.0601 - val_acc: 0.9178\n",
            "Epoch 35/100\n",
            "1022/1022 [==============================] - 0s 49us/step - loss: 0.0652 - acc: 0.9110 - val_loss: 0.0590 - val_acc: 0.9178\n",
            "Epoch 36/100\n",
            "1022/1022 [==============================] - 0s 58us/step - loss: 0.0622 - acc: 0.9188 - val_loss: 0.0720 - val_acc: 0.8950\n",
            "Epoch 37/100\n",
            "1022/1022 [==============================] - 0s 55us/step - loss: 0.0656 - acc: 0.9100 - val_loss: 0.0726 - val_acc: 0.8950\n",
            "Epoch 38/100\n",
            "1022/1022 [==============================] - 0s 52us/step - loss: 0.0643 - acc: 0.9090 - val_loss: 0.0618 - val_acc: 0.9132\n",
            "Epoch 39/100\n",
            "1022/1022 [==============================] - 0s 50us/step - loss: 0.0650 - acc: 0.9119 - val_loss: 0.0657 - val_acc: 0.9087\n",
            "Epoch 40/100\n",
            "1022/1022 [==============================] - 0s 52us/step - loss: 0.0619 - acc: 0.9149 - val_loss: 0.0633 - val_acc: 0.9178\n",
            "Epoch 41/100\n",
            "1022/1022 [==============================] - 0s 52us/step - loss: 0.0612 - acc: 0.9198 - val_loss: 0.0669 - val_acc: 0.9041\n",
            "Epoch 42/100\n",
            "1022/1022 [==============================] - 0s 57us/step - loss: 0.0627 - acc: 0.9159 - val_loss: 0.0636 - val_acc: 0.9132\n",
            "Epoch 43/100\n",
            "1022/1022 [==============================] - 0s 52us/step - loss: 0.0619 - acc: 0.9149 - val_loss: 0.0627 - val_acc: 0.9087\n",
            "Epoch 44/100\n",
            "1022/1022 [==============================] - 0s 47us/step - loss: 0.0626 - acc: 0.9188 - val_loss: 0.0712 - val_acc: 0.8950\n",
            "Epoch 45/100\n",
            "1022/1022 [==============================] - 0s 51us/step - loss: 0.0608 - acc: 0.9207 - val_loss: 0.0633 - val_acc: 0.9087\n",
            "Epoch 46/100\n",
            "1022/1022 [==============================] - 0s 53us/step - loss: 0.0605 - acc: 0.9198 - val_loss: 0.0742 - val_acc: 0.8995\n",
            "Epoch 47/100\n",
            "1022/1022 [==============================] - 0s 51us/step - loss: 0.0626 - acc: 0.9168 - val_loss: 0.0619 - val_acc: 0.9132\n",
            "Epoch 48/100\n",
            "1022/1022 [==============================] - 0s 51us/step - loss: 0.0631 - acc: 0.9188 - val_loss: 0.0639 - val_acc: 0.9132\n",
            "Epoch 49/100\n",
            "1022/1022 [==============================] - 0s 52us/step - loss: 0.0617 - acc: 0.9168 - val_loss: 0.0618 - val_acc: 0.9041\n",
            "Epoch 50/100\n",
            "1022/1022 [==============================] - 0s 53us/step - loss: 0.0636 - acc: 0.9149 - val_loss: 0.0636 - val_acc: 0.9087\n",
            "Epoch 51/100\n",
            "1022/1022 [==============================] - 0s 55us/step - loss: 0.0599 - acc: 0.9207 - val_loss: 0.0618 - val_acc: 0.9041\n",
            "Epoch 52/100\n",
            "1022/1022 [==============================] - 0s 53us/step - loss: 0.0591 - acc: 0.9247 - val_loss: 0.0644 - val_acc: 0.9087\n",
            "Epoch 53/100\n",
            "1022/1022 [==============================] - 0s 52us/step - loss: 0.0613 - acc: 0.9217 - val_loss: 0.0734 - val_acc: 0.8995\n",
            "Epoch 54/100\n",
            "1022/1022 [==============================] - 0s 57us/step - loss: 0.0623 - acc: 0.9276 - val_loss: 0.0604 - val_acc: 0.9132\n",
            "Epoch 55/100\n",
            "1022/1022 [==============================] - 0s 54us/step - loss: 0.0576 - acc: 0.9286 - val_loss: 0.0628 - val_acc: 0.9087\n",
            "Epoch 56/100\n",
            "1022/1022 [==============================] - 0s 51us/step - loss: 0.0590 - acc: 0.9198 - val_loss: 0.0641 - val_acc: 0.9087\n",
            "Epoch 57/100\n",
            "1022/1022 [==============================] - 0s 51us/step - loss: 0.0606 - acc: 0.9198 - val_loss: 0.0765 - val_acc: 0.8950\n",
            "Epoch 58/100\n",
            "1022/1022 [==============================] - 0s 50us/step - loss: 0.0610 - acc: 0.9168 - val_loss: 0.0613 - val_acc: 0.9087\n",
            "Epoch 59/100\n",
            "1022/1022 [==============================] - 0s 51us/step - loss: 0.0602 - acc: 0.9188 - val_loss: 0.0644 - val_acc: 0.9132\n",
            "Epoch 60/100\n",
            "1022/1022 [==============================] - 0s 52us/step - loss: 0.0580 - acc: 0.9276 - val_loss: 0.0580 - val_acc: 0.9178\n",
            "Epoch 61/100\n",
            "1022/1022 [==============================] - 0s 56us/step - loss: 0.0624 - acc: 0.9119 - val_loss: 0.0609 - val_acc: 0.9132\n",
            "Epoch 62/100\n",
            "1022/1022 [==============================] - 0s 56us/step - loss: 0.0563 - acc: 0.9286 - val_loss: 0.0882 - val_acc: 0.8858\n",
            "Epoch 63/100\n",
            "1022/1022 [==============================] - 0s 56us/step - loss: 0.0604 - acc: 0.9198 - val_loss: 0.0604 - val_acc: 0.9087\n",
            "Epoch 64/100\n",
            "1022/1022 [==============================] - 0s 57us/step - loss: 0.0605 - acc: 0.9227 - val_loss: 0.0653 - val_acc: 0.9041\n",
            "Epoch 65/100\n",
            "1022/1022 [==============================] - 0s 58us/step - loss: 0.0591 - acc: 0.9247 - val_loss: 0.0662 - val_acc: 0.9087\n",
            "Epoch 66/100\n",
            "1022/1022 [==============================] - 0s 53us/step - loss: 0.0580 - acc: 0.9276 - val_loss: 0.0593 - val_acc: 0.9269\n",
            "Epoch 67/100\n",
            "1022/1022 [==============================] - 0s 66us/step - loss: 0.0573 - acc: 0.9276 - val_loss: 0.0613 - val_acc: 0.9132\n",
            "Epoch 68/100\n",
            "1022/1022 [==============================] - 0s 51us/step - loss: 0.0562 - acc: 0.9256 - val_loss: 0.0743 - val_acc: 0.8995\n",
            "Epoch 69/100\n",
            "1022/1022 [==============================] - 0s 48us/step - loss: 0.0605 - acc: 0.9159 - val_loss: 0.0632 - val_acc: 0.9087\n",
            "Epoch 70/100\n",
            "1022/1022 [==============================] - 0s 57us/step - loss: 0.0595 - acc: 0.9237 - val_loss: 0.0593 - val_acc: 0.9269\n",
            "Epoch 71/100\n",
            "1022/1022 [==============================] - 0s 47us/step - loss: 0.0566 - acc: 0.9276 - val_loss: 0.0604 - val_acc: 0.9087\n",
            "Epoch 72/100\n",
            "1022/1022 [==============================] - 0s 51us/step - loss: 0.0569 - acc: 0.9256 - val_loss: 0.0587 - val_acc: 0.9132\n",
            "Epoch 73/100\n",
            "1022/1022 [==============================] - 0s 48us/step - loss: 0.0559 - acc: 0.9286 - val_loss: 0.0662 - val_acc: 0.9041\n",
            "Epoch 74/100\n",
            "1022/1022 [==============================] - 0s 53us/step - loss: 0.0566 - acc: 0.9266 - val_loss: 0.0615 - val_acc: 0.9087\n",
            "Epoch 75/100\n",
            "1022/1022 [==============================] - 0s 52us/step - loss: 0.0560 - acc: 0.9335 - val_loss: 0.0600 - val_acc: 0.9132\n",
            "Epoch 76/100\n",
            "1022/1022 [==============================] - 0s 51us/step - loss: 0.0545 - acc: 0.9295 - val_loss: 0.0594 - val_acc: 0.9178\n",
            "Epoch 77/100\n",
            "1022/1022 [==============================] - 0s 47us/step - loss: 0.0539 - acc: 0.9295 - val_loss: 0.0623 - val_acc: 0.9041\n",
            "Epoch 78/100\n",
            "1022/1022 [==============================] - 0s 50us/step - loss: 0.0573 - acc: 0.9344 - val_loss: 0.0610 - val_acc: 0.9132\n",
            "Epoch 79/100\n",
            "1022/1022 [==============================] - 0s 50us/step - loss: 0.0546 - acc: 0.9335 - val_loss: 0.0654 - val_acc: 0.9041\n",
            "Epoch 80/100\n",
            "1022/1022 [==============================] - 0s 51us/step - loss: 0.0554 - acc: 0.9286 - val_loss: 0.0657 - val_acc: 0.9041\n",
            "Epoch 81/100\n",
            "1022/1022 [==============================] - 0s 54us/step - loss: 0.0563 - acc: 0.9305 - val_loss: 0.0586 - val_acc: 0.9132\n",
            "Epoch 82/100\n",
            "1022/1022 [==============================] - 0s 54us/step - loss: 0.0554 - acc: 0.9256 - val_loss: 0.0605 - val_acc: 0.8995\n",
            "Epoch 83/100\n",
            "1022/1022 [==============================] - 0s 51us/step - loss: 0.0541 - acc: 0.9305 - val_loss: 0.0662 - val_acc: 0.9041\n",
            "Epoch 84/100\n",
            "1022/1022 [==============================] - 0s 49us/step - loss: 0.0541 - acc: 0.9256 - val_loss: 0.0638 - val_acc: 0.9041\n",
            "Epoch 85/100\n",
            "1022/1022 [==============================] - 0s 59us/step - loss: 0.0574 - acc: 0.9286 - val_loss: 0.0623 - val_acc: 0.9041\n",
            "Epoch 86/100\n",
            "1022/1022 [==============================] - 0s 58us/step - loss: 0.0546 - acc: 0.9305 - val_loss: 0.0721 - val_acc: 0.9041\n",
            "Epoch 87/100\n",
            "1022/1022 [==============================] - 0s 54us/step - loss: 0.0529 - acc: 0.9344 - val_loss: 0.0645 - val_acc: 0.9041\n",
            "Epoch 88/100\n",
            "1022/1022 [==============================] - 0s 52us/step - loss: 0.0535 - acc: 0.9315 - val_loss: 0.0666 - val_acc: 0.9041\n",
            "Epoch 89/100\n",
            "1022/1022 [==============================] - 0s 50us/step - loss: 0.0548 - acc: 0.9305 - val_loss: 0.0626 - val_acc: 0.9041\n",
            "Epoch 90/100\n",
            "1022/1022 [==============================] - 0s 49us/step - loss: 0.0553 - acc: 0.9315 - val_loss: 0.0657 - val_acc: 0.9041\n",
            "Epoch 91/100\n",
            "1022/1022 [==============================] - 0s 55us/step - loss: 0.0536 - acc: 0.9276 - val_loss: 0.0638 - val_acc: 0.8995\n",
            "Epoch 92/100\n",
            "1022/1022 [==============================] - 0s 54us/step - loss: 0.0541 - acc: 0.9276 - val_loss: 0.0659 - val_acc: 0.9041\n",
            "Epoch 93/100\n",
            "1022/1022 [==============================] - 0s 51us/step - loss: 0.0550 - acc: 0.9315 - val_loss: 0.0713 - val_acc: 0.9041\n",
            "Epoch 94/100\n",
            "1022/1022 [==============================] - 0s 48us/step - loss: 0.0557 - acc: 0.9217 - val_loss: 0.0629 - val_acc: 0.9132\n",
            "Epoch 95/100\n",
            "1022/1022 [==============================] - 0s 49us/step - loss: 0.0575 - acc: 0.9227 - val_loss: 0.0640 - val_acc: 0.9041\n",
            "Epoch 96/100\n",
            "1022/1022 [==============================] - 0s 48us/step - loss: 0.0527 - acc: 0.9344 - val_loss: 0.0617 - val_acc: 0.9087\n",
            "Epoch 97/100\n",
            "1022/1022 [==============================] - 0s 49us/step - loss: 0.0539 - acc: 0.9315 - val_loss: 0.0632 - val_acc: 0.9041\n",
            "Epoch 98/100\n",
            "1022/1022 [==============================] - 0s 54us/step - loss: 0.0543 - acc: 0.9256 - val_loss: 0.0744 - val_acc: 0.9041\n",
            "Epoch 99/100\n",
            "1022/1022 [==============================] - 0s 52us/step - loss: 0.0541 - acc: 0.9237 - val_loss: 0.0601 - val_acc: 0.9178\n",
            "Epoch 100/100\n",
            "1022/1022 [==============================] - 0s 51us/step - loss: 0.0534 - acc: 0.9286 - val_loss: 0.0632 - val_acc: 0.8995\n"
          ],
          "name": "stdout"
        }
      ]
    },
    {
      "cell_type": "code",
      "metadata": {
        "id": "XQfxbdRQ3r-N",
        "colab_type": "code",
        "outputId": "911042c4-77df-4eab-c32c-711f0ba36985",
        "colab": {
          "base_uri": "https://localhost:8080/",
          "height": 54
        }
      },
      "source": [
        "model.evaluate(X_test, y_test)"
      ],
      "execution_count": 41,
      "outputs": [
        {
          "output_type": "stream",
          "text": [
            "219/219 [==============================] - 0s 67us/step\n"
          ],
          "name": "stdout"
        },
        {
          "output_type": "execute_result",
          "data": {
            "text/plain": [
              "[0.0513587364731314, 0.9178082199945842]"
            ]
          },
          "metadata": {
            "tags": []
          },
          "execution_count": 41
        }
      ]
    },
    {
      "cell_type": "code",
      "metadata": {
        "id": "BcoxCsNc5cqc",
        "colab_type": "code",
        "outputId": "0009df95-6111-4e63-e668-f2b063eb98e1",
        "colab": {
          "base_uri": "https://localhost:8080/",
          "height": 284
        }
      },
      "source": [
        "hist.history.keys()\n",
        "\n",
        "import matplotlib.pyplot as plt\n",
        "plt.plot(hist.history['val_acc'])\n",
        "plt.plot(hist.history['acc'])"
      ],
      "execution_count": 42,
      "outputs": [
        {
          "output_type": "execute_result",
          "data": {
            "text/plain": [
              "[<matplotlib.lines.Line2D at 0x7f9dd4eed940>]"
            ]
          },
          "metadata": {
            "tags": []
          },
          "execution_count": 42
        },
        {
          "output_type": "display_data",
          "data": {
            "image/png": "[encoded data removed]",
            "text/plain": [
              "<Figure size 432x288 with 1 Axes>"
            ]
          },
          "metadata": {
            "tags": []
          }
        }
      ]
    },
    {
      "cell_type": "code",
      "metadata": {
        "id": "fQL-xr1j6hbr",
        "colab_type": "code",
        "outputId": "bc645025-60d8-4160-a859-9724784e50f2",
        "colab": {
          "base_uri": "https://localhost:8080/",
          "height": 36
        }
      },
      "source": [
        "#run prediction at local\n",
        "prediction = model.predict(X_test[[8]])\n",
        "prediction"
      ],
      "execution_count": 44,
      "outputs": [
        {
          "output_type": "execute_result",
          "data": {
            "text/plain": [
              "array([[0.9240955]], dtype=float32)"
            ]
          },
          "metadata": {
            "tags": []
          },
          "execution_count": 44
        }
      ]
    }
  ]
}