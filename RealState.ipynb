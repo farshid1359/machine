{
  "nbformat": 4,
  "nbformat_minor": 0,
  "metadata": {
    "colab": {
      "name": "RealState.ipynb",
      "provenance": [],
      "collapsed_sections": [],
      "include_colab_link": true
    },
    "kernelspec": {
      "name": "python3",
      "display_name": "Python 3"
    }
  },
  "cells": [
    {
      "cell_type": "markdown",
      "metadata": {
        "id": "view-in-github",
        "colab_type": "text"
      },
      "source": [
        "<a href=\"https://colab.research.google.com/github/markitosanches/machine/blob/master/RealState.ipynb\" target=\"_parent\"><img src=\"https://colab.research.google.com/assets/colab-badge.svg\" alt=\"Open In Colab\"/></a>"
      ]
    },
    {
      "cell_type": "code",
      "metadata": {
        "id": "EWGrCYDJfgC6",
        "colab_type": "code",
        "colab": {}
      },
      "source": [
        "import pandas as pd"
      ],
      "execution_count": 0,
      "outputs": []
    },
    {
      "cell_type": "code",
      "metadata": {
        "id": "vaK12-x47F4q",
        "colab_type": "code",
        "outputId": "61a6b3e0-f329-4961-ced8-8b93fd6db73e",
        "colab": {
          "base_uri": "https://localhost:8080/",
          "height": 219
        }
      },
      "source": [
        "!wget https://github.com/markitosanches/machine/blob/master/housepricedata.csv"
      ],
      "execution_count": 0,
      "outputs": [
        {
          "output_type": "stream",
          "text": [
            "--2019-12-15 00:19:27--  https://github.com/markitosanches/machine/blob/master/housepricedata.csv\n",
            "Resolving github.com (github.com)... 140.82.118.3\n",
            "Connecting to github.com (github.com)|140.82.118.3|:443... connected.\n",
            "HTTP request sent, awaiting response... 200 OK\n",
            "Length: unspecified [text/html]\n",
            "Saving to: ‘housepricedata.csv.1’\n",
            "\n",
            "housepricedata.csv.     [     <=>            ] 681.04K   694KB/s    in 1.0s    \n",
            "\n",
            "2019-12-15 00:19:29 (694 KB/s) - ‘housepricedata.csv.1’ saved [697390]\n",
            "\n"
          ],
          "name": "stdout"
        }
      ]
    },
    {
      "cell_type": "code",
      "metadata": {
        "id": "8A829UUcgEkf",
        "colab_type": "code",
        "colab": {}
      },
      "source": [
        "data = pd.read_csv(\"housepricedata.csv\");"
      ],
      "execution_count": 0,
      "outputs": []
    },
    {
      "cell_type": "code",
      "metadata": {
        "id": "ctQU60eQgTdj",
        "colab_type": "code",
        "outputId": "d9535ec4-2f8a-4d5c-c82b-03f71137f85c",
        "colab": {
          "base_uri": "https://localhost:8080/",
          "height": 424
        }
      },
      "source": [
        "data"
      ],
      "execution_count": 0,
      "outputs": [
        {
          "output_type": "execute_result",
          "data": {
            "text/html": [
              "<div>\n",
              "<style scoped>\n",
              "    .dataframe tbody tr th:only-of-type {\n",
              "        vertical-align: middle;\n",
              "    }\n",
              "\n",
              "    .dataframe tbody tr th {\n",
              "        vertical-align: top;\n",
              "    }\n",
              "\n",
              "    .dataframe thead th {\n",
              "        text-align: right;\n",
              "    }\n",
              "</style>\n",
              "<table border=\"1\" class=\"dataframe\">\n",
              "  <thead>\n",
              "    <tr style=\"text-align: right;\">\n",
              "      <th></th>\n",
              "      <th>LotArea</th>\n",
              "      <th>OverallQual</th>\n",
              "      <th>OverallCond</th>\n",
              "      <th>TotalBsmtSF</th>\n",
              "      <th>FullBath</th>\n",
              "      <th>HalfBath</th>\n",
              "      <th>BedroomAbvGr</th>\n",
              "      <th>TotRmsAbvGrd</th>\n",
              "      <th>Fireplaces</th>\n",
              "      <th>GarageArea</th>\n",
              "      <th>AboveMedianPrice</th>\n",
              "    </tr>\n",
              "  </thead>\n",
              "  <tbody>\n",
              "    <tr>\n",
              "      <th>0</th>\n",
              "      <td>8450</td>\n",
              "      <td>7</td>\n",
              "      <td>5</td>\n",
              "      <td>856</td>\n",
              "      <td>2</td>\n",
              "      <td>1</td>\n",
              "      <td>3</td>\n",
              "      <td>8</td>\n",
              "      <td>0</td>\n",
              "      <td>548</td>\n",
              "      <td>1</td>\n",
              "    </tr>\n",
              "    <tr>\n",
              "      <th>1</th>\n",
              "      <td>9600</td>\n",
              "      <td>6</td>\n",
              "      <td>8</td>\n",
              "      <td>1262</td>\n",
              "      <td>2</td>\n",
              "      <td>0</td>\n",
              "      <td>3</td>\n",
              "      <td>6</td>\n",
              "      <td>1</td>\n",
              "      <td>460</td>\n",
              "      <td>1</td>\n",
              "    </tr>\n",
              "    <tr>\n",
              "      <th>2</th>\n",
              "      <td>11250</td>\n",
              "      <td>7</td>\n",
              "      <td>5</td>\n",
              "      <td>920</td>\n",
              "      <td>2</td>\n",
              "      <td>1</td>\n",
              "      <td>3</td>\n",
              "      <td>6</td>\n",
              "      <td>1</td>\n",
              "      <td>608</td>\n",
              "      <td>1</td>\n",
              "    </tr>\n",
              "    <tr>\n",
              "      <th>3</th>\n",
              "      <td>9550</td>\n",
              "      <td>7</td>\n",
              "      <td>5</td>\n",
              "      <td>756</td>\n",
              "      <td>1</td>\n",
              "      <td>0</td>\n",
              "      <td>3</td>\n",
              "      <td>7</td>\n",
              "      <td>1</td>\n",
              "      <td>642</td>\n",
              "      <td>0</td>\n",
              "    </tr>\n",
              "    <tr>\n",
              "      <th>4</th>\n",
              "      <td>14260</td>\n",
              "      <td>8</td>\n",
              "      <td>5</td>\n",
              "      <td>1145</td>\n",
              "      <td>2</td>\n",
              "      <td>1</td>\n",
              "      <td>4</td>\n",
              "      <td>9</td>\n",
              "      <td>1</td>\n",
              "      <td>836</td>\n",
              "      <td>1</td>\n",
              "    </tr>\n",
              "    <tr>\n",
              "      <th>...</th>\n",
              "      <td>...</td>\n",
              "      <td>...</td>\n",
              "      <td>...</td>\n",
              "      <td>...</td>\n",
              "      <td>...</td>\n",
              "      <td>...</td>\n",
              "      <td>...</td>\n",
              "      <td>...</td>\n",
              "      <td>...</td>\n",
              "      <td>...</td>\n",
              "      <td>...</td>\n",
              "    </tr>\n",
              "    <tr>\n",
              "      <th>1455</th>\n",
              "      <td>7917</td>\n",
              "      <td>6</td>\n",
              "      <td>5</td>\n",
              "      <td>953</td>\n",
              "      <td>2</td>\n",
              "      <td>1</td>\n",
              "      <td>3</td>\n",
              "      <td>7</td>\n",
              "      <td>1</td>\n",
              "      <td>460</td>\n",
              "      <td>1</td>\n",
              "    </tr>\n",
              "    <tr>\n",
              "      <th>1456</th>\n",
              "      <td>13175</td>\n",
              "      <td>6</td>\n",
              "      <td>6</td>\n",
              "      <td>1542</td>\n",
              "      <td>2</td>\n",
              "      <td>0</td>\n",
              "      <td>3</td>\n",
              "      <td>7</td>\n",
              "      <td>2</td>\n",
              "      <td>500</td>\n",
              "      <td>1</td>\n",
              "    </tr>\n",
              "    <tr>\n",
              "      <th>1457</th>\n",
              "      <td>9042</td>\n",
              "      <td>7</td>\n",
              "      <td>9</td>\n",
              "      <td>1152</td>\n",
              "      <td>2</td>\n",
              "      <td>0</td>\n",
              "      <td>4</td>\n",
              "      <td>9</td>\n",
              "      <td>2</td>\n",
              "      <td>252</td>\n",
              "      <td>1</td>\n",
              "    </tr>\n",
              "    <tr>\n",
              "      <th>1458</th>\n",
              "      <td>9717</td>\n",
              "      <td>5</td>\n",
              "      <td>6</td>\n",
              "      <td>1078</td>\n",
              "      <td>1</td>\n",
              "      <td>0</td>\n",
              "      <td>2</td>\n",
              "      <td>5</td>\n",
              "      <td>0</td>\n",
              "      <td>240</td>\n",
              "      <td>0</td>\n",
              "    </tr>\n",
              "    <tr>\n",
              "      <th>1459</th>\n",
              "      <td>9937</td>\n",
              "      <td>5</td>\n",
              "      <td>6</td>\n",
              "      <td>1256</td>\n",
              "      <td>1</td>\n",
              "      <td>1</td>\n",
              "      <td>3</td>\n",
              "      <td>6</td>\n",
              "      <td>0</td>\n",
              "      <td>276</td>\n",
              "      <td>0</td>\n",
              "    </tr>\n",
              "  </tbody>\n",
              "</table>\n",
              "<p>1460 rows × 11 columns</p>\n",
              "</div>"
            ],
            "text/plain": [
              "      LotArea  OverallQual  ...  GarageArea  AboveMedianPrice\n",
              "0        8450            7  ...         548                 1\n",
              "1        9600            6  ...         460                 1\n",
              "2       11250            7  ...         608                 1\n",
              "3        9550            7  ...         642                 0\n",
              "4       14260            8  ...         836                 1\n",
              "...       ...          ...  ...         ...               ...\n",
              "1455     7917            6  ...         460                 1\n",
              "1456    13175            6  ...         500                 1\n",
              "1457     9042            7  ...         252                 1\n",
              "1458     9717            5  ...         240                 0\n",
              "1459     9937            5  ...         276                 0\n",
              "\n",
              "[1460 rows x 11 columns]"
            ]
          },
          "metadata": {
            "tags": []
          },
          "execution_count": 61
        }
      ]
    },
    {
      "cell_type": "code",
      "metadata": {
        "id": "iuDK9qf-hD2M",
        "colab_type": "code",
        "colab": {}
      },
      "source": [
        "dataset = data.values"
      ],
      "execution_count": 0,
      "outputs": []
    },
    {
      "cell_type": "code",
      "metadata": {
        "id": "BXNQoAcRh4Bq",
        "colab_type": "code",
        "outputId": "b7bef7f7-ffe6-4597-e470-728e7adbcc8c",
        "colab": {
          "base_uri": "https://localhost:8080/",
          "height": 146
        }
      },
      "source": [
        "dataset"
      ],
      "execution_count": 0,
      "outputs": [
        {
          "output_type": "execute_result",
          "data": {
            "text/plain": [
              "array([[ 8450,     7,     5, ...,     0,   548,     1],\n",
              "       [ 9600,     6,     8, ...,     1,   460,     1],\n",
              "       [11250,     7,     5, ...,     1,   608,     1],\n",
              "       ...,\n",
              "       [ 9042,     7,     9, ...,     2,   252,     1],\n",
              "       [ 9717,     5,     6, ...,     0,   240,     0],\n",
              "       [ 9937,     5,     6, ...,     0,   276,     0]])"
            ]
          },
          "metadata": {
            "tags": []
          },
          "execution_count": 63
        }
      ]
    },
    {
      "cell_type": "code",
      "metadata": {
        "id": "x4YSHVlJid4k",
        "colab_type": "code",
        "outputId": "e46cfea4-9165-490c-b7cb-1510fc84557d",
        "colab": {
          "base_uri": "https://localhost:8080/",
          "height": 35
        }
      },
      "source": [
        "dataset.shape"
      ],
      "execution_count": 0,
      "outputs": [
        {
          "output_type": "execute_result",
          "data": {
            "text/plain": [
              "(1460, 11)"
            ]
          },
          "metadata": {
            "tags": []
          },
          "execution_count": 64
        }
      ]
    },
    {
      "cell_type": "code",
      "metadata": {
        "id": "eIv9lMuYjXWx",
        "colab_type": "code",
        "colab": {}
      },
      "source": [
        "# columns 1 - 10\n",
        "X = dataset[:,0:10]"
      ],
      "execution_count": 0,
      "outputs": []
    },
    {
      "cell_type": "code",
      "metadata": {
        "id": "vBRt9URUjZ0H",
        "colab_type": "code",
        "outputId": "1d388ee9-9f74-4f1e-a7d6-0d72ce0f939f",
        "colab": {
          "base_uri": "https://localhost:8080/",
          "height": 35
        }
      },
      "source": [
        "X.shape"
      ],
      "execution_count": 0,
      "outputs": [
        {
          "output_type": "execute_result",
          "data": {
            "text/plain": [
              "(1460, 10)"
            ]
          },
          "metadata": {
            "tags": []
          },
          "execution_count": 86
        }
      ]
    },
    {
      "cell_type": "code",
      "metadata": {
        "id": "XMtLclmZa5fI",
        "colab_type": "code",
        "outputId": "138c4a54-91f3-4411-c6fd-53a400741e64",
        "colab": {
          "base_uri": "https://localhost:8080/",
          "height": 146
        }
      },
      "source": [
        "X"
      ],
      "execution_count": 0,
      "outputs": [
        {
          "output_type": "execute_result",
          "data": {
            "text/plain": [
              "array([[ 8450,     7,     5, ...,     8,     0,   548],\n",
              "       [ 9600,     6,     8, ...,     6,     1,   460],\n",
              "       [11250,     7,     5, ...,     6,     1,   608],\n",
              "       ...,\n",
              "       [ 9042,     7,     9, ...,     9,     2,   252],\n",
              "       [ 9717,     5,     6, ...,     5,     0,   240],\n",
              "       [ 9937,     5,     6, ...,     6,     0,   276]])"
            ]
          },
          "metadata": {
            "tags": []
          },
          "execution_count": 87
        }
      ]
    },
    {
      "cell_type": "code",
      "metadata": {
        "id": "uON3Oh5IkvnH",
        "colab_type": "code",
        "colab": {}
      },
      "source": [
        "Y = dataset[:,10]"
      ],
      "execution_count": 0,
      "outputs": []
    },
    {
      "cell_type": "code",
      "metadata": {
        "id": "RR_gClyqk_o1",
        "colab_type": "code",
        "outputId": "f1810f63-23a9-43b5-894f-8c4964430c80",
        "colab": {
          "base_uri": "https://localhost:8080/",
          "height": 35
        }
      },
      "source": [
        "Y"
      ],
      "execution_count": 0,
      "outputs": [
        {
          "output_type": "execute_result",
          "data": {
            "text/plain": [
              "array([1, 1, 1, ..., 1, 0, 0])"
            ]
          },
          "metadata": {
            "tags": []
          },
          "execution_count": 89
        }
      ]
    },
    {
      "cell_type": "code",
      "metadata": {
        "id": "o0c8fkUnlcfE",
        "colab_type": "code",
        "colab": {}
      },
      "source": [
        "Y.shape"
      ],
      "execution_count": 0,
      "outputs": []
    },
    {
      "cell_type": "code",
      "metadata": {
        "id": "wh5VAwfalerg",
        "colab_type": "code",
        "colab": {}
      },
      "source": [
        "#scaling \n",
        "from sklearn import preprocessing"
      ],
      "execution_count": 0,
      "outputs": []
    },
    {
      "cell_type": "code",
      "metadata": {
        "id": "yr0toLj-lth-",
        "colab_type": "code",
        "colab": {}
      },
      "source": [
        "#all values between 0 and 1\n",
        "min_max_scaler = preprocessing.MinMaxScaler()\n",
        "X_scale = min_max_scaler.fit_transform(X)"
      ],
      "execution_count": 0,
      "outputs": []
    },
    {
      "cell_type": "code",
      "metadata": {
        "id": "QWGognUClxuN",
        "colab_type": "code",
        "outputId": "89699a9b-30ad-4664-d6c5-eae225788310",
        "colab": {
          "base_uri": "https://localhost:8080/",
          "height": 256
        }
      },
      "source": [
        "X_scale"
      ],
      "execution_count": 0,
      "outputs": [
        {
          "output_type": "execute_result",
          "data": {
            "text/plain": [
              "array([[0.0334198 , 0.66666667, 0.5       , ..., 0.5       , 0.        ,\n",
              "        0.3864598 ],\n",
              "       [0.03879502, 0.55555556, 0.875     , ..., 0.33333333, 0.33333333,\n",
              "        0.32440056],\n",
              "       [0.04650728, 0.66666667, 0.5       , ..., 0.33333333, 0.33333333,\n",
              "        0.42877292],\n",
              "       ...,\n",
              "       [0.03618687, 0.66666667, 1.        , ..., 0.58333333, 0.66666667,\n",
              "        0.17771509],\n",
              "       [0.03934189, 0.44444444, 0.625     , ..., 0.25      , 0.        ,\n",
              "        0.16925247],\n",
              "       [0.04037019, 0.44444444, 0.625     , ..., 0.33333333, 0.        ,\n",
              "        0.19464034]])"
            ]
          },
          "metadata": {
            "tags": []
          },
          "execution_count": 93
        }
      ]
    },
    {
      "cell_type": "code",
      "metadata": {
        "id": "RZDYKZaXmceF",
        "colab_type": "code",
        "colab": {}
      },
      "source": [
        "from sklearn.model_selection import train_test_split"
      ],
      "execution_count": 0,
      "outputs": []
    },
    {
      "cell_type": "code",
      "metadata": {
        "id": "gQiexeRWmLLN",
        "colab_type": "code",
        "colab": {}
      },
      "source": [
        "#Train and test set (30%)\n",
        "X_train, X_val_and_test, Y_train, Y_val_and_test = train_test_split(X_scale, Y, test_size=0.3)"
      ],
      "execution_count": 0,
      "outputs": []
    },
    {
      "cell_type": "code",
      "metadata": {
        "id": "38kxSwyOmd9D",
        "colab_type": "code",
        "colab": {}
      },
      "source": [
        "#validation test (50% of test set)\n",
        "X_val, X_test, Y_val, Y_test = train_test_split(X_val_and_test, Y_val_and_test, test_size=0.5)"
      ],
      "execution_count": 0,
      "outputs": []
    },
    {
      "cell_type": "code",
      "metadata": {
        "id": "C_c3heDhnIS3",
        "colab_type": "code",
        "outputId": "8e72e564-be24-431a-b4f0-b0a5ef51a09e",
        "colab": {
          "base_uri": "https://localhost:8080/",
          "height": 35
        }
      },
      "source": [
        "print(X_train.shape, X_val.shape, X_test.shape, Y_train.shape, Y_val.shape, Y_test.shape)"
      ],
      "execution_count": 0,
      "outputs": [
        {
          "output_type": "stream",
          "text": [
            "(1022, 10) (219, 10) (219, 10) (1022,) (219,) (219,)\n"
          ],
          "name": "stdout"
        }
      ]
    },
    {
      "cell_type": "code",
      "metadata": {
        "id": "tYAGf3mQ00cO",
        "colab_type": "code",
        "colab": {}
      },
      "source": [
        "import tensorflow as tf\n",
        "from keras.models import Sequential\n",
        "from keras.layers import Dense\n",
        "\n"
      ],
      "execution_count": 0,
      "outputs": []
    },
    {
      "cell_type": "code",
      "metadata": {
        "id": "imJrnyc42EFx",
        "colab_type": "code",
        "colab": {}
      },
      "source": [
        "model = Sequential()\n",
        "model.add(Dense(100, activation=\"relu\", input_shape=(10,)))\n",
        "model.add(Dense(100, activation=\"relu\"))\n",
        "model.add(Dense(1, activation=\"sigmoid\"))\n",
        "\n",
        "model.compile(optimizer=\"adam\", loss=\"mean_squared_error\", metrics=['accuracy'])"
      ],
      "execution_count": 0,
      "outputs": []
    },
    {
      "cell_type": "code",
      "metadata": {
        "id": "mXgW78ca9Tj1",
        "colab_type": "code",
        "outputId": "1000fe8f-9cb9-4c0f-b6fe-fc03c0df434e",
        "colab": {
          "base_uri": "https://localhost:8080/",
          "height": 422
        }
      },
      "source": [
        "tf.keras.utils.plot_model(model, 'my_first_model.png', show_shapes=True)"
      ],
      "execution_count": 0,
      "outputs": [
        {
          "output_type": "execute_result",
          "data": {
            "image/png": "[encoded data removed]",
            "text/plain": [
              "<IPython.core.display.Image object>"
            ]
          },
          "metadata": {
            "tags": []
          },
          "execution_count": 111
        }
      ]
    },
    {
      "cell_type": "code",
      "metadata": {
        "id": "XdDz68t28SRx",
        "colab_type": "code",
        "outputId": "70688e02-ea8a-48b2-c758-b404d8cfdcec",
        "colab": {
          "base_uri": "https://localhost:8080/",
          "height": 274
        }
      },
      "source": [
        "model.summary()"
      ],
      "execution_count": 0,
      "outputs": [
        {
          "output_type": "stream",
          "text": [
            "Model: \"sequential_11\"\n",
            "_________________________________________________________________\n",
            "Layer (type)                 Output Shape              Param #   \n",
            "=================================================================\n",
            "dense_29 (Dense)             (None, 100)               1100      \n",
            "_________________________________________________________________\n",
            "dense_30 (Dense)             (None, 100)               10100     \n",
            "_________________________________________________________________\n",
            "dense_31 (Dense)             (None, 1)                 101       \n",
            "=================================================================\n",
            "Total params: 11,301\n",
            "Trainable params: 11,301\n",
            "Non-trainable params: 0\n",
            "_________________________________________________________________\n"
          ],
          "name": "stdout"
        }
      ]
    },
    {
      "cell_type": "code",
      "metadata": {
        "id": "9pX1A0Vn29jf",
        "colab_type": "code",
        "outputId": "c5965b45-b811-487b-c193-9c68cc5732a6",
        "colab": {
          "base_uri": "https://localhost:8080/",
          "height": 1000
        }
      },
      "source": [
        "hist = model.fit(X_train, Y_train,\n",
        "          batch_size=32, epochs=50,\n",
        "          validation_data=(X_val, Y_val))"
      ],
      "execution_count": 0,
      "outputs": [
        {
          "output_type": "stream",
          "text": [
            "Train on 1022 samples, validate on 219 samples\n",
            "Epoch 1/50\n",
            "1022/1022 [==============================] - 1s 529us/step - loss: 0.2209 - acc: 0.6389 - val_loss: 0.1825 - val_acc: 0.8493\n",
            "Epoch 2/50\n",
            "1022/1022 [==============================] - 0s 58us/step - loss: 0.1582 - acc: 0.8278 - val_loss: 0.1398 - val_acc: 0.8219\n",
            "Epoch 3/50\n",
            "1022/1022 [==============================] - 0s 55us/step - loss: 0.1215 - acc: 0.8620 - val_loss: 0.1134 - val_acc: 0.8630\n",
            "Epoch 4/50\n",
            "1022/1022 [==============================] - 0s 57us/step - loss: 0.1059 - acc: 0.8757 - val_loss: 0.1077 - val_acc: 0.8721\n",
            "Epoch 5/50\n",
            "1022/1022 [==============================] - 0s 60us/step - loss: 0.0977 - acc: 0.8777 - val_loss: 0.1042 - val_acc: 0.8630\n",
            "Epoch 6/50\n",
            "1022/1022 [==============================] - 0s 55us/step - loss: 0.0898 - acc: 0.8914 - val_loss: 0.0999 - val_acc: 0.8676\n",
            "Epoch 7/50\n",
            "1022/1022 [==============================] - 0s 54us/step - loss: 0.0886 - acc: 0.8933 - val_loss: 0.1035 - val_acc: 0.8539\n",
            "Epoch 8/50\n",
            "1022/1022 [==============================] - 0s 51us/step - loss: 0.0836 - acc: 0.8982 - val_loss: 0.1061 - val_acc: 0.8539\n",
            "Epoch 9/50\n",
            "1022/1022 [==============================] - 0s 55us/step - loss: 0.0838 - acc: 0.8943 - val_loss: 0.0948 - val_acc: 0.8630\n",
            "Epoch 10/50\n",
            "1022/1022 [==============================] - 0s 54us/step - loss: 0.0789 - acc: 0.8992 - val_loss: 0.0901 - val_acc: 0.8676\n",
            "Epoch 11/50\n",
            "1022/1022 [==============================] - 0s 49us/step - loss: 0.0795 - acc: 0.8953 - val_loss: 0.0872 - val_acc: 0.8676\n",
            "Epoch 12/50\n",
            "1022/1022 [==============================] - 0s 51us/step - loss: 0.0762 - acc: 0.9002 - val_loss: 0.0854 - val_acc: 0.8767\n",
            "Epoch 13/50\n",
            "1022/1022 [==============================] - 0s 49us/step - loss: 0.0750 - acc: 0.8992 - val_loss: 0.0917 - val_acc: 0.8676\n",
            "Epoch 14/50\n",
            "1022/1022 [==============================] - 0s 52us/step - loss: 0.0764 - acc: 0.8963 - val_loss: 0.0850 - val_acc: 0.8630\n",
            "Epoch 15/50\n",
            "1022/1022 [==============================] - 0s 51us/step - loss: 0.0727 - acc: 0.9031 - val_loss: 0.0821 - val_acc: 0.8721\n",
            "Epoch 16/50\n",
            "1022/1022 [==============================] - 0s 53us/step - loss: 0.0707 - acc: 0.9110 - val_loss: 0.0824 - val_acc: 0.8813\n",
            "Epoch 17/50\n",
            "1022/1022 [==============================] - 0s 52us/step - loss: 0.0729 - acc: 0.9051 - val_loss: 0.0827 - val_acc: 0.8767\n",
            "Epoch 18/50\n",
            "1022/1022 [==============================] - 0s 49us/step - loss: 0.0697 - acc: 0.9070 - val_loss: 0.0802 - val_acc: 0.8676\n",
            "Epoch 19/50\n",
            "1022/1022 [==============================] - 0s 50us/step - loss: 0.0710 - acc: 0.9051 - val_loss: 0.0811 - val_acc: 0.8767\n",
            "Epoch 20/50\n",
            "1022/1022 [==============================] - 0s 52us/step - loss: 0.0694 - acc: 0.9012 - val_loss: 0.0826 - val_acc: 0.8813\n",
            "Epoch 21/50\n",
            "1022/1022 [==============================] - 0s 56us/step - loss: 0.0684 - acc: 0.9061 - val_loss: 0.0777 - val_acc: 0.8721\n",
            "Epoch 22/50\n",
            "1022/1022 [==============================] - 0s 59us/step - loss: 0.0684 - acc: 0.9070 - val_loss: 0.0819 - val_acc: 0.8813\n",
            "Epoch 23/50\n",
            "1022/1022 [==============================] - 0s 65us/step - loss: 0.0680 - acc: 0.9110 - val_loss: 0.0773 - val_acc: 0.8767\n",
            "Epoch 24/50\n",
            "1022/1022 [==============================] - 0s 53us/step - loss: 0.0682 - acc: 0.9110 - val_loss: 0.0781 - val_acc: 0.8858\n",
            "Epoch 25/50\n",
            "1022/1022 [==============================] - 0s 48us/step - loss: 0.0653 - acc: 0.9178 - val_loss: 0.0778 - val_acc: 0.8904\n",
            "Epoch 26/50\n",
            "1022/1022 [==============================] - 0s 49us/step - loss: 0.0679 - acc: 0.9090 - val_loss: 0.0756 - val_acc: 0.8813\n",
            "Epoch 27/50\n",
            "1022/1022 [==============================] - 0s 54us/step - loss: 0.0661 - acc: 0.9110 - val_loss: 0.0766 - val_acc: 0.8995\n",
            "Epoch 28/50\n",
            "1022/1022 [==============================] - 0s 50us/step - loss: 0.0666 - acc: 0.9051 - val_loss: 0.0811 - val_acc: 0.8813\n",
            "Epoch 29/50\n",
            "1022/1022 [==============================] - 0s 51us/step - loss: 0.0686 - acc: 0.9080 - val_loss: 0.0806 - val_acc: 0.8767\n",
            "Epoch 30/50\n",
            "1022/1022 [==============================] - 0s 51us/step - loss: 0.0645 - acc: 0.9129 - val_loss: 0.0777 - val_acc: 0.8950\n",
            "Epoch 31/50\n",
            "1022/1022 [==============================] - 0s 52us/step - loss: 0.0638 - acc: 0.9110 - val_loss: 0.0797 - val_acc: 0.8858\n",
            "Epoch 32/50\n",
            "1022/1022 [==============================] - 0s 54us/step - loss: 0.0647 - acc: 0.9051 - val_loss: 0.0753 - val_acc: 0.8767\n",
            "Epoch 33/50\n",
            "1022/1022 [==============================] - 0s 50us/step - loss: 0.0661 - acc: 0.9110 - val_loss: 0.0749 - val_acc: 0.8813\n",
            "Epoch 34/50\n",
            "1022/1022 [==============================] - 0s 50us/step - loss: 0.0640 - acc: 0.9149 - val_loss: 0.0776 - val_acc: 0.8950\n",
            "Epoch 35/50\n",
            "1022/1022 [==============================] - 0s 50us/step - loss: 0.0643 - acc: 0.9100 - val_loss: 0.0736 - val_acc: 0.8858\n",
            "Epoch 36/50\n",
            "1022/1022 [==============================] - 0s 56us/step - loss: 0.0637 - acc: 0.9129 - val_loss: 0.0831 - val_acc: 0.8858\n",
            "Epoch 37/50\n",
            "1022/1022 [==============================] - 0s 55us/step - loss: 0.0660 - acc: 0.9080 - val_loss: 0.0758 - val_acc: 0.8950\n",
            "Epoch 38/50\n",
            "1022/1022 [==============================] - 0s 58us/step - loss: 0.0637 - acc: 0.9110 - val_loss: 0.0738 - val_acc: 0.8904\n",
            "Epoch 39/50\n",
            "1022/1022 [==============================] - 0s 55us/step - loss: 0.0614 - acc: 0.9159 - val_loss: 0.0825 - val_acc: 0.8904\n",
            "Epoch 40/50\n",
            "1022/1022 [==============================] - 0s 55us/step - loss: 0.0634 - acc: 0.9178 - val_loss: 0.0737 - val_acc: 0.8904\n",
            "Epoch 41/50\n",
            "1022/1022 [==============================] - 0s 55us/step - loss: 0.0630 - acc: 0.9178 - val_loss: 0.0731 - val_acc: 0.8950\n",
            "Epoch 42/50\n",
            "1022/1022 [==============================] - 0s 53us/step - loss: 0.0629 - acc: 0.9188 - val_loss: 0.0776 - val_acc: 0.8904\n",
            "Epoch 43/50\n",
            "1022/1022 [==============================] - 0s 53us/step - loss: 0.0667 - acc: 0.9119 - val_loss: 0.0743 - val_acc: 0.8904\n",
            "Epoch 44/50\n",
            "1022/1022 [==============================] - 0s 49us/step - loss: 0.0634 - acc: 0.9061 - val_loss: 0.0824 - val_acc: 0.8950\n",
            "Epoch 45/50\n",
            "1022/1022 [==============================] - 0s 53us/step - loss: 0.0646 - acc: 0.9139 - val_loss: 0.0728 - val_acc: 0.8950\n",
            "Epoch 46/50\n",
            "1022/1022 [==============================] - 0s 54us/step - loss: 0.0617 - acc: 0.9129 - val_loss: 0.0803 - val_acc: 0.8950\n",
            "Epoch 47/50\n",
            "1022/1022 [==============================] - 0s 48us/step - loss: 0.0611 - acc: 0.9139 - val_loss: 0.0778 - val_acc: 0.8950\n",
            "Epoch 48/50\n",
            "1022/1022 [==============================] - 0s 49us/step - loss: 0.0617 - acc: 0.9168 - val_loss: 0.0732 - val_acc: 0.8858\n",
            "Epoch 49/50\n",
            "1022/1022 [==============================] - 0s 54us/step - loss: 0.0610 - acc: 0.9139 - val_loss: 0.0750 - val_acc: 0.8858\n",
            "Epoch 50/50\n",
            "1022/1022 [==============================] - 0s 52us/step - loss: 0.0617 - acc: 0.9188 - val_loss: 0.0741 - val_acc: 0.8858\n"
          ],
          "name": "stdout"
        }
      ]
    },
    {
      "cell_type": "code",
      "metadata": {
        "id": "XQfxbdRQ3r-N",
        "colab_type": "code",
        "outputId": "0cb632cd-09dd-4768-f5a7-b8aebf498c29",
        "colab": {
          "base_uri": "https://localhost:8080/",
          "height": 54
        }
      },
      "source": [
        "model.evaluate(X_test, Y_test)"
      ],
      "execution_count": 0,
      "outputs": [
        {
          "output_type": "stream",
          "text": [
            "219/219 [==============================] - 0s 70us/step\n"
          ],
          "name": "stdout"
        },
        {
          "output_type": "execute_result",
          "data": {
            "text/plain": [
              "[0.07845113324384166, 0.8858447504914515]"
            ]
          },
          "metadata": {
            "tags": []
          },
          "execution_count": 103
        }
      ]
    },
    {
      "cell_type": "code",
      "metadata": {
        "id": "BcoxCsNc5cqc",
        "colab_type": "code",
        "outputId": "769f6f14-1f2b-4373-f51b-f8ac371441dc",
        "colab": {
          "base_uri": "https://localhost:8080/",
          "height": 283
        }
      },
      "source": [
        "hist.history.keys()\n",
        "\n",
        "import matplotlib.pyplot as plt\n",
        "plt.plot(hist.history['val_acc'])\n",
        "plt.plot(hist.history['acc'])"
      ],
      "execution_count": 0,
      "outputs": [
        {
          "output_type": "execute_result",
          "data": {
            "text/plain": [
              "[<matplotlib.lines.Line2D at 0x7f8a4721bf60>]"
            ]
          },
          "metadata": {
            "tags": []
          },
          "execution_count": 104
        },
        {
          "output_type": "display_data",
          "data": {
            "image/png": "[encoded data removed]",
            "text/plain": [
              "<Figure size 432x288 with 1 Axes>"
            ]
          },
          "metadata": {
            "tags": []
          }
        }
      ]
    },
    {
      "cell_type": "code",
      "metadata": {
        "id": "fQL-xr1j6hbr",
        "colab_type": "code",
        "outputId": "e1afcbfa-a2bd-4c8a-b39b-0a792a6ee222",
        "colab": {
          "base_uri": "https://localhost:8080/",
          "height": 35
        }
      },
      "source": [
        "#run prediction at local\n",
        "prediction = model.predict(X_test[[8]])\n",
        "prediction"
      ],
      "execution_count": 0,
      "outputs": [
        {
          "output_type": "execute_result",
          "data": {
            "text/plain": [
              "array([[0.3836219]], dtype=float32)"
            ]
          },
          "metadata": {
            "tags": []
          },
          "execution_count": 105
        }
      ]
    }
  ]
}