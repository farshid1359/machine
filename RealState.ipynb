{
  "nbformat": 4,
  "nbformat_minor": 0,
  "metadata": {
    "colab": {
      "name": "RealState.ipynb",
      "provenance": [],
      "collapsed_sections": [],
      "include_colab_link": true
    },
    "kernelspec": {
      "name": "python3",
      "display_name": "Python 3"
    }
  },
  "cells": [
    {
      "cell_type": "markdown",
      "metadata": {
        "id": "view-in-github",
        "colab_type": "text"
      },
      "source": [
        "<a href=\"https://colab.research.google.com/github/markitosanches/machine/blob/master/RealState.ipynb\" target=\"_parent\"><img src=\"https://colab.research.google.com/assets/colab-badge.svg\" alt=\"Open In Colab\"/></a>"
      ]
    },
    {
      "cell_type": "code",
      "metadata": {
        "id": "EWGrCYDJfgC6",
        "colab_type": "code",
        "colab": {}
      },
      "source": [
        "import pandas as pd"
      ],
      "execution_count": 0,
      "outputs": []
    },
    {
      "cell_type": "code",
      "metadata": {
        "id": "8A829UUcgEkf",
        "colab_type": "code",
        "colab": {}
      },
      "source": [
        "data = pd.read_csv(\"housepricedata.csv\");"
      ],
      "execution_count": 0,
      "outputs": []
    },
    {
      "cell_type": "code",
      "metadata": {
        "id": "ctQU60eQgTdj",
        "colab_type": "code",
        "outputId": "f6906ccf-ae95-4711-f442-3386eabd4107",
        "colab": {
          "base_uri": "https://localhost:8080/",
          "height": 424
        }
      },
      "source": [
        "data"
      ],
      "execution_count": 138,
      "outputs": [
        {
          "output_type": "execute_result",
          "data": {
            "text/html": [
              "<div>\n",
              "<style scoped>\n",
              "    .dataframe tbody tr th:only-of-type {\n",
              "        vertical-align: middle;\n",
              "    }\n",
              "\n",
              "    .dataframe tbody tr th {\n",
              "        vertical-align: top;\n",
              "    }\n",
              "\n",
              "    .dataframe thead th {\n",
              "        text-align: right;\n",
              "    }\n",
              "</style>\n",
              "<table border=\"1\" class=\"dataframe\">\n",
              "  <thead>\n",
              "    <tr style=\"text-align: right;\">\n",
              "      <th></th>\n",
              "      <th>LotArea</th>\n",
              "      <th>OverallQual</th>\n",
              "      <th>OverallCond</th>\n",
              "      <th>TotalBsmtSF</th>\n",
              "      <th>FullBath</th>\n",
              "      <th>HalfBath</th>\n",
              "      <th>BedroomAbvGr</th>\n",
              "      <th>TotRmsAbvGrd</th>\n",
              "      <th>Fireplaces</th>\n",
              "      <th>GarageArea</th>\n",
              "      <th>AboveMedianPrice</th>\n",
              "    </tr>\n",
              "  </thead>\n",
              "  <tbody>\n",
              "    <tr>\n",
              "      <th>0</th>\n",
              "      <td>8450</td>\n",
              "      <td>7</td>\n",
              "      <td>5</td>\n",
              "      <td>856</td>\n",
              "      <td>2</td>\n",
              "      <td>1</td>\n",
              "      <td>3</td>\n",
              "      <td>8</td>\n",
              "      <td>0</td>\n",
              "      <td>548</td>\n",
              "      <td>1</td>\n",
              "    </tr>\n",
              "    <tr>\n",
              "      <th>1</th>\n",
              "      <td>9600</td>\n",
              "      <td>6</td>\n",
              "      <td>8</td>\n",
              "      <td>1262</td>\n",
              "      <td>2</td>\n",
              "      <td>0</td>\n",
              "      <td>3</td>\n",
              "      <td>6</td>\n",
              "      <td>1</td>\n",
              "      <td>460</td>\n",
              "      <td>1</td>\n",
              "    </tr>\n",
              "    <tr>\n",
              "      <th>2</th>\n",
              "      <td>11250</td>\n",
              "      <td>7</td>\n",
              "      <td>5</td>\n",
              "      <td>920</td>\n",
              "      <td>2</td>\n",
              "      <td>1</td>\n",
              "      <td>3</td>\n",
              "      <td>6</td>\n",
              "      <td>1</td>\n",
              "      <td>608</td>\n",
              "      <td>1</td>\n",
              "    </tr>\n",
              "    <tr>\n",
              "      <th>3</th>\n",
              "      <td>9550</td>\n",
              "      <td>7</td>\n",
              "      <td>5</td>\n",
              "      <td>756</td>\n",
              "      <td>1</td>\n",
              "      <td>0</td>\n",
              "      <td>3</td>\n",
              "      <td>7</td>\n",
              "      <td>1</td>\n",
              "      <td>642</td>\n",
              "      <td>0</td>\n",
              "    </tr>\n",
              "    <tr>\n",
              "      <th>4</th>\n",
              "      <td>14260</td>\n",
              "      <td>8</td>\n",
              "      <td>5</td>\n",
              "      <td>1145</td>\n",
              "      <td>2</td>\n",
              "      <td>1</td>\n",
              "      <td>4</td>\n",
              "      <td>9</td>\n",
              "      <td>1</td>\n",
              "      <td>836</td>\n",
              "      <td>1</td>\n",
              "    </tr>\n",
              "    <tr>\n",
              "      <th>...</th>\n",
              "      <td>...</td>\n",
              "      <td>...</td>\n",
              "      <td>...</td>\n",
              "      <td>...</td>\n",
              "      <td>...</td>\n",
              "      <td>...</td>\n",
              "      <td>...</td>\n",
              "      <td>...</td>\n",
              "      <td>...</td>\n",
              "      <td>...</td>\n",
              "      <td>...</td>\n",
              "    </tr>\n",
              "    <tr>\n",
              "      <th>1455</th>\n",
              "      <td>7917</td>\n",
              "      <td>6</td>\n",
              "      <td>5</td>\n",
              "      <td>953</td>\n",
              "      <td>2</td>\n",
              "      <td>1</td>\n",
              "      <td>3</td>\n",
              "      <td>7</td>\n",
              "      <td>1</td>\n",
              "      <td>460</td>\n",
              "      <td>1</td>\n",
              "    </tr>\n",
              "    <tr>\n",
              "      <th>1456</th>\n",
              "      <td>13175</td>\n",
              "      <td>6</td>\n",
              "      <td>6</td>\n",
              "      <td>1542</td>\n",
              "      <td>2</td>\n",
              "      <td>0</td>\n",
              "      <td>3</td>\n",
              "      <td>7</td>\n",
              "      <td>2</td>\n",
              "      <td>500</td>\n",
              "      <td>1</td>\n",
              "    </tr>\n",
              "    <tr>\n",
              "      <th>1457</th>\n",
              "      <td>9042</td>\n",
              "      <td>7</td>\n",
              "      <td>9</td>\n",
              "      <td>1152</td>\n",
              "      <td>2</td>\n",
              "      <td>0</td>\n",
              "      <td>4</td>\n",
              "      <td>9</td>\n",
              "      <td>2</td>\n",
              "      <td>252</td>\n",
              "      <td>1</td>\n",
              "    </tr>\n",
              "    <tr>\n",
              "      <th>1458</th>\n",
              "      <td>9717</td>\n",
              "      <td>5</td>\n",
              "      <td>6</td>\n",
              "      <td>1078</td>\n",
              "      <td>1</td>\n",
              "      <td>0</td>\n",
              "      <td>2</td>\n",
              "      <td>5</td>\n",
              "      <td>0</td>\n",
              "      <td>240</td>\n",
              "      <td>0</td>\n",
              "    </tr>\n",
              "    <tr>\n",
              "      <th>1459</th>\n",
              "      <td>9937</td>\n",
              "      <td>5</td>\n",
              "      <td>6</td>\n",
              "      <td>1256</td>\n",
              "      <td>1</td>\n",
              "      <td>1</td>\n",
              "      <td>3</td>\n",
              "      <td>6</td>\n",
              "      <td>0</td>\n",
              "      <td>276</td>\n",
              "      <td>0</td>\n",
              "    </tr>\n",
              "  </tbody>\n",
              "</table>\n",
              "<p>1460 rows × 11 columns</p>\n",
              "</div>"
            ],
            "text/plain": [
              "      LotArea  OverallQual  ...  GarageArea  AboveMedianPrice\n",
              "0        8450            7  ...         548                 1\n",
              "1        9600            6  ...         460                 1\n",
              "2       11250            7  ...         608                 1\n",
              "3        9550            7  ...         642                 0\n",
              "4       14260            8  ...         836                 1\n",
              "...       ...          ...  ...         ...               ...\n",
              "1455     7917            6  ...         460                 1\n",
              "1456    13175            6  ...         500                 1\n",
              "1457     9042            7  ...         252                 1\n",
              "1458     9717            5  ...         240                 0\n",
              "1459     9937            5  ...         276                 0\n",
              "\n",
              "[1460 rows x 11 columns]"
            ]
          },
          "metadata": {
            "tags": []
          },
          "execution_count": 138
        }
      ]
    },
    {
      "cell_type": "code",
      "metadata": {
        "id": "iuDK9qf-hD2M",
        "colab_type": "code",
        "colab": {}
      },
      "source": [
        "dataset = data.values"
      ],
      "execution_count": 0,
      "outputs": []
    },
    {
      "cell_type": "code",
      "metadata": {
        "id": "BXNQoAcRh4Bq",
        "colab_type": "code",
        "outputId": "ebf70610-b352-480e-cfe2-2a93096d438e",
        "colab": {
          "base_uri": "https://localhost:8080/",
          "height": 148
        }
      },
      "source": [
        "dataset"
      ],
      "execution_count": 140,
      "outputs": [
        {
          "output_type": "execute_result",
          "data": {
            "text/plain": [
              "array([[ 8450,     7,     5, ...,     0,   548,     1],\n",
              "       [ 9600,     6,     8, ...,     1,   460,     1],\n",
              "       [11250,     7,     5, ...,     1,   608,     1],\n",
              "       ...,\n",
              "       [ 9042,     7,     9, ...,     2,   252,     1],\n",
              "       [ 9717,     5,     6, ...,     0,   240,     0],\n",
              "       [ 9937,     5,     6, ...,     0,   276,     0]])"
            ]
          },
          "metadata": {
            "tags": []
          },
          "execution_count": 140
        }
      ]
    },
    {
      "cell_type": "code",
      "metadata": {
        "id": "x4YSHVlJid4k",
        "colab_type": "code",
        "outputId": "b68afee8-2241-4c12-91bb-00739a4383fb",
        "colab": {
          "base_uri": "https://localhost:8080/",
          "height": 36
        }
      },
      "source": [
        "dataset.shape"
      ],
      "execution_count": 141,
      "outputs": [
        {
          "output_type": "execute_result",
          "data": {
            "text/plain": [
              "(1460, 11)"
            ]
          },
          "metadata": {
            "tags": []
          },
          "execution_count": 141
        }
      ]
    },
    {
      "cell_type": "code",
      "metadata": {
        "id": "eIv9lMuYjXWx",
        "colab_type": "code",
        "colab": {}
      },
      "source": [
        "# columns 1 - 10\n",
        "X = dataset[:,0:10]"
      ],
      "execution_count": 0,
      "outputs": []
    },
    {
      "cell_type": "code",
      "metadata": {
        "id": "vBRt9URUjZ0H",
        "colab_type": "code",
        "outputId": "f2054bdb-4f55-40dc-d450-3e110df88e92",
        "colab": {
          "base_uri": "https://localhost:8080/",
          "height": 36
        }
      },
      "source": [
        "X.shape"
      ],
      "execution_count": 143,
      "outputs": [
        {
          "output_type": "execute_result",
          "data": {
            "text/plain": [
              "(1460, 10)"
            ]
          },
          "metadata": {
            "tags": []
          },
          "execution_count": 143
        }
      ]
    },
    {
      "cell_type": "code",
      "metadata": {
        "id": "XMtLclmZa5fI",
        "colab_type": "code",
        "outputId": "aee4c953-5e3e-4d5f-c204-52649b169101",
        "colab": {
          "base_uri": "https://localhost:8080/",
          "height": 148
        }
      },
      "source": [
        "X"
      ],
      "execution_count": 144,
      "outputs": [
        {
          "output_type": "execute_result",
          "data": {
            "text/plain": [
              "array([[ 8450,     7,     5, ...,     8,     0,   548],\n",
              "       [ 9600,     6,     8, ...,     6,     1,   460],\n",
              "       [11250,     7,     5, ...,     6,     1,   608],\n",
              "       ...,\n",
              "       [ 9042,     7,     9, ...,     9,     2,   252],\n",
              "       [ 9717,     5,     6, ...,     5,     0,   240],\n",
              "       [ 9937,     5,     6, ...,     6,     0,   276]])"
            ]
          },
          "metadata": {
            "tags": []
          },
          "execution_count": 144
        }
      ]
    },
    {
      "cell_type": "code",
      "metadata": {
        "id": "uON3Oh5IkvnH",
        "colab_type": "code",
        "colab": {}
      },
      "source": [
        "y = dataset[:,10]"
      ],
      "execution_count": 0,
      "outputs": []
    },
    {
      "cell_type": "code",
      "metadata": {
        "id": "A_iiLmnoHcgc",
        "colab_type": "code",
        "colab": {
          "base_uri": "https://localhost:8080/",
          "height": 36
        },
        "outputId": "1e33e450-e150-42fb-99d8-41bd7d42f87d"
      },
      "source": [
        "y.shape"
      ],
      "execution_count": 146,
      "outputs": [
        {
          "output_type": "execute_result",
          "data": {
            "text/plain": [
              "(1460,)"
            ]
          },
          "metadata": {
            "tags": []
          },
          "execution_count": 146
        }
      ]
    },
    {
      "cell_type": "code",
      "metadata": {
        "id": "RR_gClyqk_o1",
        "colab_type": "code",
        "outputId": "8ac139f8-ec4e-438f-c988-30e08edc1a93",
        "colab": {
          "base_uri": "https://localhost:8080/",
          "height": 36
        }
      },
      "source": [
        "y"
      ],
      "execution_count": 147,
      "outputs": [
        {
          "output_type": "execute_result",
          "data": {
            "text/plain": [
              "array([1, 1, 1, ..., 1, 0, 0])"
            ]
          },
          "metadata": {
            "tags": []
          },
          "execution_count": 147
        }
      ]
    },
    {
      "cell_type": "code",
      "metadata": {
        "id": "wh5VAwfalerg",
        "colab_type": "code",
        "colab": {}
      },
      "source": [
        "#scaling \n",
        "from sklearn import preprocessing"
      ],
      "execution_count": 0,
      "outputs": []
    },
    {
      "cell_type": "code",
      "metadata": {
        "id": "yr0toLj-lth-",
        "colab_type": "code",
        "colab": {}
      },
      "source": [
        "#all values between 0 and 1\n",
        "min_max_scaler = preprocessing.MinMaxScaler()\n",
        "X_scale = min_max_scaler.fit_transform(X)"
      ],
      "execution_count": 0,
      "outputs": []
    },
    {
      "cell_type": "code",
      "metadata": {
        "id": "QWGognUClxuN",
        "colab_type": "code",
        "outputId": "1fe5d40f-767e-4424-ca24-4f5649071ba4",
        "colab": {
          "base_uri": "https://localhost:8080/",
          "height": 261
        }
      },
      "source": [
        "X_scale"
      ],
      "execution_count": 150,
      "outputs": [
        {
          "output_type": "execute_result",
          "data": {
            "text/plain": [
              "array([[0.0334198 , 0.66666667, 0.5       , ..., 0.5       , 0.        ,\n",
              "        0.3864598 ],\n",
              "       [0.03879502, 0.55555556, 0.875     , ..., 0.33333333, 0.33333333,\n",
              "        0.32440056],\n",
              "       [0.04650728, 0.66666667, 0.5       , ..., 0.33333333, 0.33333333,\n",
              "        0.42877292],\n",
              "       ...,\n",
              "       [0.03618687, 0.66666667, 1.        , ..., 0.58333333, 0.66666667,\n",
              "        0.17771509],\n",
              "       [0.03934189, 0.44444444, 0.625     , ..., 0.25      , 0.        ,\n",
              "        0.16925247],\n",
              "       [0.04037019, 0.44444444, 0.625     , ..., 0.33333333, 0.        ,\n",
              "        0.19464034]])"
            ]
          },
          "metadata": {
            "tags": []
          },
          "execution_count": 150
        }
      ]
    },
    {
      "cell_type": "code",
      "metadata": {
        "id": "RZDYKZaXmceF",
        "colab_type": "code",
        "colab": {}
      },
      "source": [
        "from sklearn.model_selection import train_test_split"
      ],
      "execution_count": 0,
      "outputs": []
    },
    {
      "cell_type": "code",
      "metadata": {
        "id": "gQiexeRWmLLN",
        "colab_type": "code",
        "colab": {}
      },
      "source": [
        "#Train and test set (30%)\n",
        "X_train, X_val_and_test, y_train, y_val_and_test = train_test_split(X_scale, y, test_size=0.3)"
      ],
      "execution_count": 0,
      "outputs": []
    },
    {
      "cell_type": "code",
      "metadata": {
        "id": "38kxSwyOmd9D",
        "colab_type": "code",
        "colab": {}
      },
      "source": [
        "#validation test (50% of test set)\n",
        "X_val, X_test, y_val, y_test = train_test_split(X_val_and_test, y_val_and_test, test_size=0.5)"
      ],
      "execution_count": 0,
      "outputs": []
    },
    {
      "cell_type": "code",
      "metadata": {
        "id": "C_c3heDhnIS3",
        "colab_type": "code",
        "outputId": "eb6572f8-4608-484c-cf59-8b728a0ee13f",
        "colab": {
          "base_uri": "https://localhost:8080/",
          "height": 36
        }
      },
      "source": [
        "print(X_train.shape, X_val.shape, X_test.shape, y_train.shape, y_val.shape, y_test.shape)"
      ],
      "execution_count": 154,
      "outputs": [
        {
          "output_type": "stream",
          "text": [
            "(1022, 10) (219, 10) (219, 10) (1022,) (219,) (219,)\n"
          ],
          "name": "stdout"
        }
      ]
    },
    {
      "cell_type": "code",
      "metadata": {
        "id": "tYAGf3mQ00cO",
        "colab_type": "code",
        "colab": {}
      },
      "source": [
        "import numpy as np\n",
        "from tensorflow.keras.models import Sequential\n",
        "from tensorflow.keras.layers import Dense\n",
        "from tensorflow.train import AdamOptimizer\n",
        "import tensorflow as tf\n",
        "\n"
      ],
      "execution_count": 0,
      "outputs": []
    },
    {
      "cell_type": "code",
      "metadata": {
        "id": "imJrnyc42EFx",
        "colab_type": "code",
        "colab": {}
      },
      "source": [
        "model = Sequential()\n",
        "model.add(Dense(100, activation=\"relu\", input_shape=(10,)))\n",
        "model.add(Dense(100, activation=\"relu\"))\n",
        "model.add(Dense(1, activation=\"sigmoid\"))\n",
        "\n",
        "model.compile(optimizer=\"adam\", loss=\"mean_squared_error\", metrics=['accuracy'])"
      ],
      "execution_count": 0,
      "outputs": []
    },
    {
      "cell_type": "code",
      "metadata": {
        "id": "mXgW78ca9Tj1",
        "colab_type": "code",
        "outputId": "c6652aa6-bda7-45dd-abeb-554868aa707c",
        "colab": {
          "base_uri": "https://localhost:8080/",
          "height": 422
        }
      },
      "source": [
        "tf.keras.utils.plot_model(model, 'my_first_model.png', show_shapes=True)"
      ],
      "execution_count": 158,
      "outputs": [
        {
          "output_type": "execute_result",
          "data": {
            "image/png": "[encoded data removed]",
            "text/plain": [
              "<IPython.core.display.Image object>"
            ]
          },
          "metadata": {
            "tags": []
          },
          "execution_count": 158
        }
      ]
    },
    {
      "cell_type": "code",
      "metadata": {
        "id": "XdDz68t28SRx",
        "colab_type": "code",
        "outputId": "6c1c69db-5ed9-41d3-f594-315e02b835a2",
        "colab": {
          "base_uri": "https://localhost:8080/",
          "height": 279
        }
      },
      "source": [
        "model.summary()"
      ],
      "execution_count": 159,
      "outputs": [
        {
          "output_type": "stream",
          "text": [
            "Model: \"sequential_5\"\n",
            "_________________________________________________________________\n",
            "Layer (type)                 Output Shape              Param #   \n",
            "=================================================================\n",
            "dense_13 (Dense)             (None, 100)               1100      \n",
            "_________________________________________________________________\n",
            "dense_14 (Dense)             (None, 100)               10100     \n",
            "_________________________________________________________________\n",
            "dense_15 (Dense)             (None, 1)                 101       \n",
            "=================================================================\n",
            "Total params: 11,301\n",
            "Trainable params: 11,301\n",
            "Non-trainable params: 0\n",
            "_________________________________________________________________\n"
          ],
          "name": "stdout"
        }
      ]
    },
    {
      "cell_type": "code",
      "metadata": {
        "id": "9pX1A0Vn29jf",
        "colab_type": "code",
        "outputId": "070ea456-b398-47b1-b922-65d4bf254a61",
        "colab": {
          "base_uri": "https://localhost:8080/",
          "height": 1000
        }
      },
      "source": [
        "hist = model.fit(X_train, y_train, batch_size=32, epochs=100, validation_data=(X_val, y_val))"
      ],
      "execution_count": 160,
      "outputs": [
        {
          "output_type": "stream",
          "text": [
            "Train on 1022 samples, validate on 219 samples\n",
            "Epoch 1/100\n",
            "1022/1022 [==============================] - 0s 212us/sample - loss: 0.2290 - acc: 0.6204 - val_loss: 0.2005 - val_acc: 0.7945\n",
            "Epoch 2/100\n",
            "1022/1022 [==============================] - 0s 82us/sample - loss: 0.1725 - acc: 0.8268 - val_loss: 0.1407 - val_acc: 0.8402\n",
            "Epoch 3/100\n",
            "1022/1022 [==============================] - 0s 73us/sample - loss: 0.1284 - acc: 0.8513 - val_loss: 0.1231 - val_acc: 0.8493\n",
            "Epoch 4/100\n",
            "1022/1022 [==============================] - 0s 73us/sample - loss: 0.1135 - acc: 0.8581 - val_loss: 0.1154 - val_acc: 0.8630\n",
            "Epoch 5/100\n",
            "1022/1022 [==============================] - 0s 73us/sample - loss: 0.1041 - acc: 0.8611 - val_loss: 0.1108 - val_acc: 0.8356\n",
            "Epoch 6/100\n",
            "1022/1022 [==============================] - 0s 70us/sample - loss: 0.1001 - acc: 0.8699 - val_loss: 0.1059 - val_acc: 0.8584\n",
            "Epoch 7/100\n",
            "1022/1022 [==============================] - 0s 79us/sample - loss: 0.0943 - acc: 0.8738 - val_loss: 0.1038 - val_acc: 0.8539\n",
            "Epoch 8/100\n",
            "1022/1022 [==============================] - 0s 77us/sample - loss: 0.0937 - acc: 0.8777 - val_loss: 0.1035 - val_acc: 0.8767\n",
            "Epoch 9/100\n",
            "1022/1022 [==============================] - 0s 73us/sample - loss: 0.0887 - acc: 0.8875 - val_loss: 0.1092 - val_acc: 0.8584\n",
            "Epoch 10/100\n",
            "1022/1022 [==============================] - 0s 74us/sample - loss: 0.0887 - acc: 0.8826 - val_loss: 0.0960 - val_acc: 0.8676\n",
            "Epoch 11/100\n",
            "1022/1022 [==============================] - 0s 69us/sample - loss: 0.0824 - acc: 0.8904 - val_loss: 0.0920 - val_acc: 0.8813\n",
            "Epoch 12/100\n",
            "1022/1022 [==============================] - 0s 68us/sample - loss: 0.0842 - acc: 0.8924 - val_loss: 0.0927 - val_acc: 0.8721\n",
            "Epoch 13/100\n",
            "1022/1022 [==============================] - 0s 79us/sample - loss: 0.0795 - acc: 0.8933 - val_loss: 0.0901 - val_acc: 0.8767\n",
            "Epoch 14/100\n",
            "1022/1022 [==============================] - 0s 75us/sample - loss: 0.0760 - acc: 0.9002 - val_loss: 0.1021 - val_acc: 0.8356\n",
            "Epoch 15/100\n",
            "1022/1022 [==============================] - 0s 79us/sample - loss: 0.0817 - acc: 0.8885 - val_loss: 0.0900 - val_acc: 0.8767\n",
            "Epoch 16/100\n",
            "1022/1022 [==============================] - 0s 74us/sample - loss: 0.0779 - acc: 0.8904 - val_loss: 0.0906 - val_acc: 0.8676\n",
            "Epoch 17/100\n",
            "1022/1022 [==============================] - 0s 79us/sample - loss: 0.0741 - acc: 0.9002 - val_loss: 0.0857 - val_acc: 0.8676\n",
            "Epoch 18/100\n",
            "1022/1022 [==============================] - 0s 83us/sample - loss: 0.0717 - acc: 0.8992 - val_loss: 0.0931 - val_acc: 0.8676\n",
            "Epoch 19/100\n",
            "1022/1022 [==============================] - 0s 73us/sample - loss: 0.0709 - acc: 0.9002 - val_loss: 0.0861 - val_acc: 0.8676\n",
            "Epoch 20/100\n",
            "1022/1022 [==============================] - 0s 81us/sample - loss: 0.0704 - acc: 0.8992 - val_loss: 0.0852 - val_acc: 0.8813\n",
            "Epoch 21/100\n",
            "1022/1022 [==============================] - 0s 77us/sample - loss: 0.0725 - acc: 0.9012 - val_loss: 0.0873 - val_acc: 0.8676\n",
            "Epoch 22/100\n",
            "1022/1022 [==============================] - 0s 76us/sample - loss: 0.0711 - acc: 0.8894 - val_loss: 0.0873 - val_acc: 0.8721\n",
            "Epoch 23/100\n",
            "1022/1022 [==============================] - 0s 76us/sample - loss: 0.0654 - acc: 0.9100 - val_loss: 0.0855 - val_acc: 0.8767\n",
            "Epoch 24/100\n",
            "1022/1022 [==============================] - 0s 80us/sample - loss: 0.0666 - acc: 0.9100 - val_loss: 0.0854 - val_acc: 0.8767\n",
            "Epoch 25/100\n",
            "1022/1022 [==============================] - 0s 87us/sample - loss: 0.0663 - acc: 0.9061 - val_loss: 0.0843 - val_acc: 0.8858\n",
            "Epoch 26/100\n",
            "1022/1022 [==============================] - 0s 83us/sample - loss: 0.0647 - acc: 0.9100 - val_loss: 0.0848 - val_acc: 0.8767\n",
            "Epoch 27/100\n",
            "1022/1022 [==============================] - 0s 70us/sample - loss: 0.0662 - acc: 0.9100 - val_loss: 0.0858 - val_acc: 0.8813\n",
            "Epoch 28/100\n",
            "1022/1022 [==============================] - 0s 73us/sample - loss: 0.0655 - acc: 0.9100 - val_loss: 0.0850 - val_acc: 0.8813\n",
            "Epoch 29/100\n",
            "1022/1022 [==============================] - 0s 73us/sample - loss: 0.0651 - acc: 0.9119 - val_loss: 0.0872 - val_acc: 0.8767\n",
            "Epoch 30/100\n",
            "1022/1022 [==============================] - 0s 73us/sample - loss: 0.0628 - acc: 0.9110 - val_loss: 0.0864 - val_acc: 0.8721\n",
            "Epoch 31/100\n",
            "1022/1022 [==============================] - 0s 71us/sample - loss: 0.0622 - acc: 0.9168 - val_loss: 0.0855 - val_acc: 0.8721\n",
            "Epoch 32/100\n",
            "1022/1022 [==============================] - 0s 73us/sample - loss: 0.0651 - acc: 0.9080 - val_loss: 0.0874 - val_acc: 0.8721\n",
            "Epoch 33/100\n",
            "1022/1022 [==============================] - 0s 77us/sample - loss: 0.0618 - acc: 0.9159 - val_loss: 0.0891 - val_acc: 0.8676\n",
            "Epoch 34/100\n",
            "1022/1022 [==============================] - 0s 77us/sample - loss: 0.0629 - acc: 0.9149 - val_loss: 0.0845 - val_acc: 0.8767\n",
            "Epoch 35/100\n",
            "1022/1022 [==============================] - 0s 75us/sample - loss: 0.0623 - acc: 0.9110 - val_loss: 0.0844 - val_acc: 0.8904\n",
            "Epoch 36/100\n",
            "1022/1022 [==============================] - 0s 82us/sample - loss: 0.0624 - acc: 0.9149 - val_loss: 0.0848 - val_acc: 0.8767\n",
            "Epoch 37/100\n",
            "1022/1022 [==============================] - 0s 79us/sample - loss: 0.0624 - acc: 0.9178 - val_loss: 0.0883 - val_acc: 0.8584\n",
            "Epoch 38/100\n",
            "1022/1022 [==============================] - 0s 73us/sample - loss: 0.0619 - acc: 0.9110 - val_loss: 0.0935 - val_acc: 0.8493\n",
            "Epoch 39/100\n",
            "1022/1022 [==============================] - 0s 79us/sample - loss: 0.0641 - acc: 0.9080 - val_loss: 0.0898 - val_acc: 0.8630\n",
            "Epoch 40/100\n",
            "1022/1022 [==============================] - 0s 82us/sample - loss: 0.0625 - acc: 0.9119 - val_loss: 0.0860 - val_acc: 0.8813\n",
            "Epoch 41/100\n",
            "1022/1022 [==============================] - 0s 76us/sample - loss: 0.0609 - acc: 0.9207 - val_loss: 0.0903 - val_acc: 0.8630\n",
            "Epoch 42/100\n",
            "1022/1022 [==============================] - 0s 84us/sample - loss: 0.0636 - acc: 0.9159 - val_loss: 0.0849 - val_acc: 0.8721\n",
            "Epoch 43/100\n",
            "1022/1022 [==============================] - 0s 80us/sample - loss: 0.0598 - acc: 0.9198 - val_loss: 0.0915 - val_acc: 0.8630\n",
            "Epoch 44/100\n",
            "1022/1022 [==============================] - 0s 76us/sample - loss: 0.0613 - acc: 0.9159 - val_loss: 0.0858 - val_acc: 0.8767\n",
            "Epoch 45/100\n",
            "1022/1022 [==============================] - 0s 80us/sample - loss: 0.0628 - acc: 0.9188 - val_loss: 0.0907 - val_acc: 0.8721\n",
            "Epoch 46/100\n",
            "1022/1022 [==============================] - 0s 73us/sample - loss: 0.0611 - acc: 0.9168 - val_loss: 0.0847 - val_acc: 0.8813\n",
            "Epoch 47/100\n",
            "1022/1022 [==============================] - 0s 73us/sample - loss: 0.0622 - acc: 0.9168 - val_loss: 0.0930 - val_acc: 0.8447\n",
            "Epoch 48/100\n",
            "1022/1022 [==============================] - 0s 70us/sample - loss: 0.0604 - acc: 0.9198 - val_loss: 0.0855 - val_acc: 0.8676\n",
            "Epoch 49/100\n",
            "1022/1022 [==============================] - 0s 76us/sample - loss: 0.0620 - acc: 0.9149 - val_loss: 0.0911 - val_acc: 0.8539\n",
            "Epoch 50/100\n",
            "1022/1022 [==============================] - 0s 80us/sample - loss: 0.0586 - acc: 0.9198 - val_loss: 0.0853 - val_acc: 0.8676\n",
            "Epoch 51/100\n",
            "1022/1022 [==============================] - 0s 75us/sample - loss: 0.0598 - acc: 0.9198 - val_loss: 0.0897 - val_acc: 0.8630\n",
            "Epoch 52/100\n",
            "1022/1022 [==============================] - 0s 77us/sample - loss: 0.0619 - acc: 0.9080 - val_loss: 0.0861 - val_acc: 0.8676\n",
            "Epoch 53/100\n",
            "1022/1022 [==============================] - 0s 72us/sample - loss: 0.0623 - acc: 0.9139 - val_loss: 0.0873 - val_acc: 0.8676\n",
            "Epoch 54/100\n",
            "1022/1022 [==============================] - 0s 69us/sample - loss: 0.0593 - acc: 0.9207 - val_loss: 0.0932 - val_acc: 0.8630\n",
            "Epoch 55/100\n",
            "1022/1022 [==============================] - 0s 73us/sample - loss: 0.0585 - acc: 0.9198 - val_loss: 0.0875 - val_acc: 0.8584\n",
            "Epoch 56/100\n",
            "1022/1022 [==============================] - 0s 73us/sample - loss: 0.0596 - acc: 0.9237 - val_loss: 0.0868 - val_acc: 0.8721\n",
            "Epoch 57/100\n",
            "1022/1022 [==============================] - 0s 69us/sample - loss: 0.0584 - acc: 0.9207 - val_loss: 0.0878 - val_acc: 0.8630\n",
            "Epoch 58/100\n",
            "1022/1022 [==============================] - 0s 68us/sample - loss: 0.0587 - acc: 0.9139 - val_loss: 0.0876 - val_acc: 0.8584\n",
            "Epoch 59/100\n",
            "1022/1022 [==============================] - 0s 75us/sample - loss: 0.0573 - acc: 0.9247 - val_loss: 0.0863 - val_acc: 0.8630\n",
            "Epoch 60/100\n",
            "1022/1022 [==============================] - 0s 72us/sample - loss: 0.0570 - acc: 0.9237 - val_loss: 0.0866 - val_acc: 0.8630\n",
            "Epoch 61/100\n",
            "1022/1022 [==============================] - 0s 83us/sample - loss: 0.0569 - acc: 0.9178 - val_loss: 0.0849 - val_acc: 0.8630\n",
            "Epoch 62/100\n",
            "1022/1022 [==============================] - 0s 76us/sample - loss: 0.0561 - acc: 0.9237 - val_loss: 0.0857 - val_acc: 0.8630\n",
            "Epoch 63/100\n",
            "1022/1022 [==============================] - 0s 75us/sample - loss: 0.0577 - acc: 0.9256 - val_loss: 0.0950 - val_acc: 0.8493\n",
            "Epoch 64/100\n",
            "1022/1022 [==============================] - 0s 76us/sample - loss: 0.0604 - acc: 0.9129 - val_loss: 0.0848 - val_acc: 0.8904\n",
            "Epoch 65/100\n",
            "1022/1022 [==============================] - 0s 69us/sample - loss: 0.0571 - acc: 0.9217 - val_loss: 0.0921 - val_acc: 0.8630\n",
            "Epoch 66/100\n",
            "1022/1022 [==============================] - 0s 74us/sample - loss: 0.0578 - acc: 0.9227 - val_loss: 0.0879 - val_acc: 0.8630\n",
            "Epoch 67/100\n",
            "1022/1022 [==============================] - 0s 71us/sample - loss: 0.0552 - acc: 0.9266 - val_loss: 0.0847 - val_acc: 0.8813\n",
            "Epoch 68/100\n",
            "1022/1022 [==============================] - 0s 73us/sample - loss: 0.0559 - acc: 0.9286 - val_loss: 0.0926 - val_acc: 0.8493\n",
            "Epoch 69/100\n",
            "1022/1022 [==============================] - 0s 74us/sample - loss: 0.0573 - acc: 0.9207 - val_loss: 0.0855 - val_acc: 0.8721\n",
            "Epoch 70/100\n",
            "1022/1022 [==============================] - 0s 70us/sample - loss: 0.0558 - acc: 0.9256 - val_loss: 0.0880 - val_acc: 0.8676\n",
            "Epoch 71/100\n",
            "1022/1022 [==============================] - 0s 70us/sample - loss: 0.0560 - acc: 0.9286 - val_loss: 0.0860 - val_acc: 0.8539\n",
            "Epoch 72/100\n",
            "1022/1022 [==============================] - 0s 84us/sample - loss: 0.0555 - acc: 0.9276 - val_loss: 0.0959 - val_acc: 0.8584\n",
            "Epoch 73/100\n",
            "1022/1022 [==============================] - 0s 77us/sample - loss: 0.0589 - acc: 0.9198 - val_loss: 0.0908 - val_acc: 0.8676\n",
            "Epoch 74/100\n",
            "1022/1022 [==============================] - 0s 76us/sample - loss: 0.0580 - acc: 0.9217 - val_loss: 0.0870 - val_acc: 0.8630\n",
            "Epoch 75/100\n",
            "1022/1022 [==============================] - 0s 76us/sample - loss: 0.0546 - acc: 0.9305 - val_loss: 0.0971 - val_acc: 0.8493\n",
            "Epoch 76/100\n",
            "1022/1022 [==============================] - 0s 74us/sample - loss: 0.0572 - acc: 0.9305 - val_loss: 0.0854 - val_acc: 0.8584\n",
            "Epoch 77/100\n",
            "1022/1022 [==============================] - 0s 72us/sample - loss: 0.0582 - acc: 0.9198 - val_loss: 0.0898 - val_acc: 0.8676\n",
            "Epoch 78/100\n",
            "1022/1022 [==============================] - 0s 76us/sample - loss: 0.0545 - acc: 0.9266 - val_loss: 0.0841 - val_acc: 0.8813\n",
            "Epoch 79/100\n",
            "1022/1022 [==============================] - 0s 72us/sample - loss: 0.0544 - acc: 0.9247 - val_loss: 0.0860 - val_acc: 0.8858\n",
            "Epoch 80/100\n",
            "1022/1022 [==============================] - 0s 70us/sample - loss: 0.0569 - acc: 0.9247 - val_loss: 0.0843 - val_acc: 0.8813\n",
            "Epoch 81/100\n",
            "1022/1022 [==============================] - 0s 85us/sample - loss: 0.0548 - acc: 0.9247 - val_loss: 0.0850 - val_acc: 0.8767\n",
            "Epoch 82/100\n",
            "1022/1022 [==============================] - 0s 81us/sample - loss: 0.0551 - acc: 0.9315 - val_loss: 0.0912 - val_acc: 0.8630\n",
            "Epoch 83/100\n",
            "1022/1022 [==============================] - 0s 68us/sample - loss: 0.0536 - acc: 0.9276 - val_loss: 0.0860 - val_acc: 0.8721\n",
            "Epoch 84/100\n",
            "1022/1022 [==============================] - 0s 75us/sample - loss: 0.0538 - acc: 0.9276 - val_loss: 0.1099 - val_acc: 0.8402\n",
            "Epoch 85/100\n",
            "1022/1022 [==============================] - 0s 77us/sample - loss: 0.0548 - acc: 0.9276 - val_loss: 0.0868 - val_acc: 0.8584\n",
            "Epoch 86/100\n",
            "1022/1022 [==============================] - 0s 79us/sample - loss: 0.0545 - acc: 0.9286 - val_loss: 0.0862 - val_acc: 0.8721\n",
            "Epoch 87/100\n",
            "1022/1022 [==============================] - 0s 74us/sample - loss: 0.0563 - acc: 0.9217 - val_loss: 0.0982 - val_acc: 0.8584\n",
            "Epoch 88/100\n",
            "1022/1022 [==============================] - 0s 70us/sample - loss: 0.0542 - acc: 0.9286 - val_loss: 0.0851 - val_acc: 0.8676\n",
            "Epoch 89/100\n",
            "1022/1022 [==============================] - 0s 74us/sample - loss: 0.0540 - acc: 0.9256 - val_loss: 0.0905 - val_acc: 0.8721\n",
            "Epoch 90/100\n",
            "1022/1022 [==============================] - 0s 67us/sample - loss: 0.0539 - acc: 0.9295 - val_loss: 0.0915 - val_acc: 0.8767\n",
            "Epoch 91/100\n",
            "1022/1022 [==============================] - 0s 64us/sample - loss: 0.0553 - acc: 0.9217 - val_loss: 0.0844 - val_acc: 0.8858\n",
            "Epoch 92/100\n",
            "1022/1022 [==============================] - 0s 75us/sample - loss: 0.0541 - acc: 0.9305 - val_loss: 0.0893 - val_acc: 0.8539\n",
            "Epoch 93/100\n",
            "1022/1022 [==============================] - 0s 72us/sample - loss: 0.0530 - acc: 0.9295 - val_loss: 0.0891 - val_acc: 0.8584\n",
            "Epoch 94/100\n",
            "1022/1022 [==============================] - 0s 83us/sample - loss: 0.0561 - acc: 0.9256 - val_loss: 0.0862 - val_acc: 0.8813\n",
            "Epoch 95/100\n",
            "1022/1022 [==============================] - 0s 72us/sample - loss: 0.0560 - acc: 0.9295 - val_loss: 0.0871 - val_acc: 0.8630\n",
            "Epoch 96/100\n",
            "1022/1022 [==============================] - 0s 75us/sample - loss: 0.0526 - acc: 0.9335 - val_loss: 0.0895 - val_acc: 0.8539\n",
            "Epoch 97/100\n",
            "1022/1022 [==============================] - 0s 77us/sample - loss: 0.0562 - acc: 0.9217 - val_loss: 0.0897 - val_acc: 0.8539\n",
            "Epoch 98/100\n",
            "1022/1022 [==============================] - 0s 82us/sample - loss: 0.0529 - acc: 0.9305 - val_loss: 0.0880 - val_acc: 0.8630\n",
            "Epoch 99/100\n",
            "1022/1022 [==============================] - 0s 79us/sample - loss: 0.0536 - acc: 0.9286 - val_loss: 0.0917 - val_acc: 0.8584\n",
            "Epoch 100/100\n",
            "1022/1022 [==============================] - 0s 76us/sample - loss: 0.0524 - acc: 0.9315 - val_loss: 0.0860 - val_acc: 0.8767\n"
          ],
          "name": "stdout"
        }
      ]
    },
    {
      "cell_type": "code",
      "metadata": {
        "id": "XQfxbdRQ3r-N",
        "colab_type": "code",
        "outputId": "f7957a74-82ee-483f-f7b0-2447a9400ecb",
        "colab": {
          "base_uri": "https://localhost:8080/",
          "height": 54
        }
      },
      "source": [
        "model.evaluate(X_test, y_test)"
      ],
      "execution_count": 161,
      "outputs": [
        {
          "output_type": "stream",
          "text": [
            "219/219 [==============================] - 0s 46us/sample - loss: 0.0790 - acc: 0.8950\n"
          ],
          "name": "stdout"
        },
        {
          "output_type": "execute_result",
          "data": {
            "text/plain": [
              "[0.07903616199244375, 0.89497715]"
            ]
          },
          "metadata": {
            "tags": []
          },
          "execution_count": 161
        }
      ]
    },
    {
      "cell_type": "code",
      "metadata": {
        "id": "BcoxCsNc5cqc",
        "colab_type": "code",
        "outputId": "57f7f070-e332-460b-bcfa-5d8cf51edef5",
        "colab": {
          "base_uri": "https://localhost:8080/",
          "height": 284
        }
      },
      "source": [
        "hist.history.keys()\n",
        "\n",
        "import matplotlib.pyplot as plt\n",
        "plt.plot(hist.history['val_acc'])\n",
        "plt.plot(hist.history['acc'])"
      ],
      "execution_count": 162,
      "outputs": [
        {
          "output_type": "execute_result",
          "data": {
            "text/plain": [
              "[<matplotlib.lines.Line2D at 0x7f9dd0d6f3c8>]"
            ]
          },
          "metadata": {
            "tags": []
          },
          "execution_count": 162
        },
        {
          "output_type": "display_data",
          "data": {
            "image/png": "[encoded data removed]",
            "text/plain": [
              "<Figure size 432x288 with 1 Axes>"
            ]
          },
          "metadata": {
            "tags": []
          }
        }
      ]
    },
    {
      "cell_type": "code",
      "metadata": {
        "id": "fQL-xr1j6hbr",
        "colab_type": "code",
        "outputId": "d21ba542-6e2f-4cfe-8379-2f271cee2898",
        "colab": {
          "base_uri": "https://localhost:8080/",
          "height": 36
        }
      },
      "source": [
        "#run prediction at local\n",
        "prediction = model.predict(X_test[[8]])\n",
        "prediction"
      ],
      "execution_count": 163,
      "outputs": [
        {
          "output_type": "execute_result",
          "data": {
            "text/plain": [
              "array([[0.97085047]], dtype=float32)"
            ]
          },
          "metadata": {
            "tags": []
          },
          "execution_count": 163
        }
      ]
    },
    {
      "cell_type": "code",
      "metadata": {
        "id": "2GKAjXWIayf8",
        "colab_type": "code",
        "colab": {}
      },
      "source": [
        "GCP_PROJECT = 'INSERT HERE YOUR PROJECT ID'\n",
        "KERAS_MODEL_BUCKET = 'gs://house-prediction-gcp'\n",
        "REGION = 'us-central1'\n",
        "KERAS_VERSION_NAME = 'v1'\n",
        "MODEL = 'model_house'"
      ],
      "execution_count": 0,
      "outputs": []
    },
    {
      "cell_type": "code",
      "metadata": {
        "id": "dDYQtJ5McAHC",
        "colab_type": "code",
        "colab": {}
      },
      "source": [
        "import sys\n",
        "\n",
        "if 'google.colab' in sys.modules:\n",
        "  from google.colab import auth as google_auth\n",
        "  google_auth.authenticate_user()\n",
        "else:\n",
        "  %env GOOGLE_APPLICATION_CREDENTIALS ''"
      ],
      "execution_count": 0,
      "outputs": []
    },
    {
      "cell_type": "code",
      "metadata": {
        "id": "SltIIw8EcltU",
        "colab_type": "code",
        "colab": {
          "base_uri": "https://localhost:8080/",
          "height": 36
        },
        "outputId": "026bf167-3123-4560-b991-2665e739226a"
      },
      "source": [
        "# Create Bucket\n",
        "! gsutil mb -p $GCP_PROJECT -l $REGION $KERAS_MODEL_BUCKET\n",
        "# Display what is in the bucket\n",
        "!gsutil ls -al $KERAS_MODEL_BUCKET"
      ],
      "execution_count": 167,
      "outputs": [
        {
          "output_type": "stream",
          "text": [
            "Creating gs://house-prediction-gcp/...\n"
          ],
          "name": "stdout"
        }
      ]
    },
    {
      "cell_type": "code",
      "metadata": {
        "id": "ociVJxwllWiA",
        "colab_type": "code",
        "colab": {
          "base_uri": "https://localhost:8080/",
          "height": 36
        },
        "outputId": "8c386be1-2b49-4caf-d578-9ae97f0bae72"
      },
      "source": [
        "# Configure gcloud to use your project\n",
        "!gcloud config set project $GCP_PROJECT"
      ],
      "execution_count": 168,
      "outputs": [
        {
          "output_type": "stream",
          "text": [
            "Updated property [core/project].\n"
          ],
          "name": "stdout"
        }
      ]
    },
    {
      "cell_type": "code",
      "metadata": {
        "id": "97RBZRpSlZNA",
        "colab_type": "code",
        "colab": {
          "base_uri": "https://localhost:8080/",
          "height": 805
        },
        "outputId": "e5d45f58-1d1c-44e2-c772-723134a990d2"
      },
      "source": [
        "export_path = tf.contrib.saved_model.save_keras_model(model, KERAS_MODEL_BUCKET + '/keras_export')"
      ],
      "execution_count": 169,
      "outputs": [
        {
          "output_type": "stream",
          "text": [
            "INFO:tensorflow:Signatures INCLUDED in export for Classify: None\n",
            "INFO:tensorflow:Signatures INCLUDED in export for Regress: None\n",
            "INFO:tensorflow:Signatures INCLUDED in export for Predict: None\n",
            "INFO:tensorflow:Signatures INCLUDED in export for Train: ['train']\n",
            "INFO:tensorflow:Signatures INCLUDED in export for Eval: None\n",
            "WARNING:tensorflow:Export includes no default signature!\n",
            "INFO:tensorflow:No assets to save.\n",
            "INFO:tensorflow:No assets to write.\n",
            "INFO:tensorflow:Signatures INCLUDED in export for Classify: None\n",
            "INFO:tensorflow:Signatures INCLUDED in export for Regress: None\n",
            "INFO:tensorflow:Signatures INCLUDED in export for Predict: None\n",
            "INFO:tensorflow:Signatures INCLUDED in export for Train: None\n",
            "INFO:tensorflow:Signatures INCLUDED in export for Eval: ['eval']\n",
            "WARNING:tensorflow:Export includes no default signature!\n",
            "INFO:tensorflow:No assets to save.\n",
            "INFO:tensorflow:No assets to write.\n",
            "WARNING:tensorflow:Unresolved object in checkpoint: (root).optimizer.beta_1\n",
            "WARNING:tensorflow:Unresolved object in checkpoint: (root).optimizer.beta_2\n",
            "WARNING:tensorflow:Unresolved object in checkpoint: (root).optimizer.decay\n",
            "WARNING:tensorflow:Unresolved object in checkpoint: (root).optimizer.learning_rate\n",
            "WARNING:tensorflow:Unresolved object in checkpoint: (root).optimizer's state 'm' for (root).layer_with_weights-0.kernel\n",
            "WARNING:tensorflow:Unresolved object in checkpoint: (root).optimizer's state 'm' for (root).layer_with_weights-0.bias\n",
            "WARNING:tensorflow:Unresolved object in checkpoint: (root).optimizer's state 'm' for (root).layer_with_weights-1.kernel\n",
            "WARNING:tensorflow:Unresolved object in checkpoint: (root).optimizer's state 'm' for (root).layer_with_weights-1.bias\n",
            "WARNING:tensorflow:Unresolved object in checkpoint: (root).optimizer's state 'm' for (root).layer_with_weights-2.kernel\n",
            "WARNING:tensorflow:Unresolved object in checkpoint: (root).optimizer's state 'm' for (root).layer_with_weights-2.bias\n",
            "WARNING:tensorflow:Unresolved object in checkpoint: (root).optimizer's state 'v' for (root).layer_with_weights-0.kernel\n",
            "WARNING:tensorflow:Unresolved object in checkpoint: (root).optimizer's state 'v' for (root).layer_with_weights-0.bias\n",
            "WARNING:tensorflow:Unresolved object in checkpoint: (root).optimizer's state 'v' for (root).layer_with_weights-1.kernel\n",
            "WARNING:tensorflow:Unresolved object in checkpoint: (root).optimizer's state 'v' for (root).layer_with_weights-1.bias\n",
            "WARNING:tensorflow:Unresolved object in checkpoint: (root).optimizer's state 'v' for (root).layer_with_weights-2.kernel\n",
            "WARNING:tensorflow:Unresolved object in checkpoint: (root).optimizer's state 'v' for (root).layer_with_weights-2.bias\n",
            "WARNING:tensorflow:A checkpoint was restored (e.g. tf.train.Checkpoint.restore or tf.keras.Model.load_weights) but not all checkpointed values were used. See above for specific issues. Use expect_partial() on the load status object, e.g. tf.train.Checkpoint.restore(...).expect_partial(), to silence these warnings, or use assert_consumed() to make the check explicit. See https://www.tensorflow.org/alpha/guide/checkpoints#loading_mechanics for details.\n",
            "INFO:tensorflow:Signatures INCLUDED in export for Classify: None\n",
            "INFO:tensorflow:Signatures INCLUDED in export for Regress: None\n",
            "INFO:tensorflow:Signatures INCLUDED in export for Predict: ['serving_default']\n",
            "INFO:tensorflow:Signatures INCLUDED in export for Train: None\n",
            "INFO:tensorflow:Signatures INCLUDED in export for Eval: None\n",
            "INFO:tensorflow:No assets to save.\n",
            "INFO:tensorflow:No assets to write.\n",
            "INFO:tensorflow:SavedModel written to: gs://house-prediction-gcp/keras_export/saved_model.pb\n"
          ],
          "name": "stdout"
        }
      ]
    },
    {
      "cell_type": "code",
      "metadata": {
        "id": "VaXFQJtrmsE6",
        "colab_type": "code",
        "colab": {
          "base_uri": "https://localhost:8080/",
          "height": 54
        },
        "outputId": "65a153ba-e7af-4be1-ad09-a6100bc4a54a"
      },
      "source": [
        "# Create a new model in our project, you only need to run this once\n",
        "!gcloud ai-platform models create $MODEL"
      ],
      "execution_count": 171,
      "outputs": [
        {
          "output_type": "stream",
          "text": [
            "\u001b[1;33mWARNING:\u001b[0m `--regions` flag will soon be required. Please explicitly specify a region. Using [us-central1] by default.\n",
            "Created ml engine model [projects/crack-glider-260700/models/model_house].\n"
          ],
          "name": "stdout"
        }
      ]
    },
    {
      "cell_type": "code",
      "metadata": {
        "id": "kkqoj_AEm_Ep",
        "colab_type": "code",
        "colab": {}
      },
      "source": [
        "# Deploy the model to Cloud AI Platform\n",
        "\n",
        "!gcloud beta ai-platform versions create $KERAS_VERSION_NAME --model $MODEL \\\n",
        "--origin=$KERAS_MODEL_BUCKET/keras_export/ \\\n",
        "--python-version=3.5 \\\n",
        "--runtime-version=1.14 \\\n",
        "--framework='TENSORFLOW'"
      ],
      "execution_count": 0,
      "outputs": []
    },
    {
      "cell_type": "code",
      "metadata": {
        "id": "ZmPZBHdkpVKL",
        "colab_type": "code",
        "colab": {
          "base_uri": "https://localhost:8080/",
          "height": 54
        },
        "outputId": "cad0febe-6dbf-4ca3-cb9c-0e208675f2eb"
      },
      "source": [
        "X_test[[8]]"
      ],
      "execution_count": 173,
      "outputs": [
        {
          "output_type": "execute_result",
          "data": {
            "text/plain": [
              "array([[0.03430788, 0.66666667, 0.5       , 0.14729951, 0.66666667,\n",
              "        0.5       , 0.375     , 0.41666667, 0.33333333, 0.45416079]])"
            ]
          },
          "metadata": {
            "tags": []
          },
          "execution_count": 173
        }
      ]
    },
    {
      "cell_type": "code",
      "metadata": {
        "id": "aR3ixh8zo_m9",
        "colab_type": "code",
        "colab": {
          "base_uri": "https://localhost:8080/",
          "height": 36
        },
        "outputId": "1a90193a-688f-4834-ce73-94126a073b82"
      },
      "source": [
        "#json file\n",
        "%%writefile predictions.json\n",
        "[0.03430788, 0.66666667, 0.5, 0.14729951, 0.66666667, 0.5, 0.375, 0.41666667, 0.33333333, 0.45416079]"
      ],
      "execution_count": 174,
      "outputs": [
        {
          "output_type": "stream",
          "text": [
            "Overwriting predictions.json\n"
          ],
          "name": "stdout"
        }
      ]
    },
    {
      "cell_type": "code",
      "metadata": {
        "id": "pfAiIqQWpxKl",
        "colab_type": "code",
        "colab": {
          "base_uri": "https://localhost:8080/",
          "height": 36
        },
        "outputId": "48f520cb-6661-4e9e-cf43-943b2dc1f48c"
      },
      "source": [
        "# Test the deployed model on an example from our test set\n",
        "# The correct score for this prediction is 7\n",
        "prediction = !gcloud ai-platform predict --model=$MODEL --json-instances=predictions.json --version=$KERAS_VERSION_NAME\n",
        "print(prediction[1])"
      ],
      "execution_count": 175,
      "outputs": [
        {
          "output_type": "stream",
          "text": [
            "[0.9708504676818848]\n"
          ],
          "name": "stdout"
        }
      ]
    }
  ]
}